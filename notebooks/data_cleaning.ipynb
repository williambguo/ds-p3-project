{
 "cells": [
  {
   "cell_type": "markdown",
   "metadata": {},
   "source": [
    "# Data Cleaning"
   ]
  },
  {
   "cell_type": "markdown",
   "metadata": {},
   "source": [
    "#### To-do:\n",
    "\n",
    "- drop irrelevant columns\n",
    "- deal with nulls/missing data\n",
    "- string cleaning of names\n",
    "- explore combining target classes down to two classes\n",
    "- **REMEMBER TO CONDUCT THE SAME DATA CLEANING TO THE TEST SET AS WELL**\n"
   ]
  },
  {
   "cell_type": "code",
   "execution_count": 2,
   "metadata": {},
   "outputs": [],
   "source": [
    "import pandas as pd \n",
    "import numpy as np \n",
    "import matplotlib.pyplot as plt \n",
    "%matplotlib inline\n",
    "import seaborn as sns\n",
    "from sklearn.preprocessing import LabelEncoder\n",
    "from sklearn.preprocessing import normalize\n",
    "from skrub import SimilarityEncoder"
   ]
  },
  {
   "cell_type": "code",
   "execution_count": 3,
   "metadata": {},
   "outputs": [],
   "source": [
    "# Importing the custom functions\n",
    "import sys\n",
    "import os \n",
    "\n",
    "sys.path.append(os.path.abspath('../src'))\n",
    "\n",
    "from utils import *"
   ]
  },
  {
   "cell_type": "code",
   "execution_count": 4,
   "metadata": {},
   "outputs": [],
   "source": [
    "df_train_raw = pd.read_csv('../data/raw/raw_training_set_full.csv')\n",
    "df_test_raw = pd.read_csv('../data/raw/test_set_values.csv')"
   ]
  },
  {
   "cell_type": "markdown",
   "metadata": {},
   "source": [
    "## Drop Unneeded Columns"
   ]
  },
  {
   "cell_type": "markdown",
   "metadata": {},
   "source": [
    "During EDA, I went through all of the features in the data and made an initial determination on which features to keep and which to drop. Those determinations are informing this part of data cleaning."
   ]
  },
  {
   "cell_type": "code",
   "execution_count": 5,
   "metadata": {},
   "outputs": [
    {
     "name": "stdout",
     "output_type": "stream",
     "text": [
      "<class 'pandas.core.frame.DataFrame'>\n",
      "RangeIndex: 59400 entries, 0 to 59399\n",
      "Data columns (total 41 columns):\n",
      " #   Column                 Non-Null Count  Dtype  \n",
      "---  ------                 --------------  -----  \n",
      " 0   id                     59400 non-null  int64  \n",
      " 1   amount_tsh             59400 non-null  float64\n",
      " 2   date_recorded          59400 non-null  object \n",
      " 3   funder                 55763 non-null  object \n",
      " 4   gps_height             59400 non-null  int64  \n",
      " 5   installer              55745 non-null  object \n",
      " 6   longitude              59400 non-null  float64\n",
      " 7   latitude               59400 non-null  float64\n",
      " 8   wpt_name               59398 non-null  object \n",
      " 9   num_private            59400 non-null  int64  \n",
      " 10  basin                  59400 non-null  object \n",
      " 11  subvillage             59029 non-null  object \n",
      " 12  region                 59400 non-null  object \n",
      " 13  region_code            59400 non-null  int64  \n",
      " 14  district_code          59400 non-null  int64  \n",
      " 15  lga                    59400 non-null  object \n",
      " 16  ward                   59400 non-null  object \n",
      " 17  population             59400 non-null  int64  \n",
      " 18  public_meeting         56066 non-null  object \n",
      " 19  recorded_by            59400 non-null  object \n",
      " 20  scheme_management      55522 non-null  object \n",
      " 21  scheme_name            30590 non-null  object \n",
      " 22  permit                 56344 non-null  object \n",
      " 23  construction_year      59400 non-null  int64  \n",
      " 24  extraction_type        59400 non-null  object \n",
      " 25  extraction_type_group  59400 non-null  object \n",
      " 26  extraction_type_class  59400 non-null  object \n",
      " 27  management             59400 non-null  object \n",
      " 28  management_group       59400 non-null  object \n",
      " 29  payment                59400 non-null  object \n",
      " 30  payment_type           59400 non-null  object \n",
      " 31  water_quality          59400 non-null  object \n",
      " 32  quality_group          59400 non-null  object \n",
      " 33  quantity               59400 non-null  object \n",
      " 34  quantity_group         59400 non-null  object \n",
      " 35  source                 59400 non-null  object \n",
      " 36  source_type            59400 non-null  object \n",
      " 37  source_class           59400 non-null  object \n",
      " 38  waterpoint_type        59400 non-null  object \n",
      " 39  waterpoint_type_group  59400 non-null  object \n",
      " 40  target                 59400 non-null  object \n",
      "dtypes: float64(3), int64(7), object(31)\n",
      "memory usage: 18.6+ MB\n"
     ]
    }
   ],
   "source": [
    "df_train_raw.info()"
   ]
  },
  {
   "cell_type": "code",
   "execution_count": 6,
   "metadata": {},
   "outputs": [],
   "source": [
    "# Dropping the columns that are not needed based on my EDA\n",
    "df_train = df_train_raw.drop(columns=['target', 'id', 'wpt_name', 'num_private', 'subvillage', 'ward', 'recorded_by', 'scheme_name', \n",
    "                            'scheme_management', 'water_quality', 'waterpoint_type_group', 'quantity_group', 'region_code', \n",
    "                            'extraction_type', 'extraction_type_group', 'payment', 'source_class', 'source_type', 'amount_tsh'])"
   ]
  },
  {
   "cell_type": "code",
   "execution_count": 7,
   "metadata": {},
   "outputs": [
    {
     "name": "stdout",
     "output_type": "stream",
     "text": [
      "<class 'pandas.core.frame.DataFrame'>\n",
      "RangeIndex: 59400 entries, 0 to 59399\n",
      "Data columns (total 23 columns):\n",
      " #   Column                 Non-Null Count  Dtype  \n",
      "---  ------                 --------------  -----  \n",
      " 0   amount_tsh             59400 non-null  float64\n",
      " 1   date_recorded          59400 non-null  object \n",
      " 2   funder                 55763 non-null  object \n",
      " 3   gps_height             59400 non-null  int64  \n",
      " 4   installer              55745 non-null  object \n",
      " 5   longitude              59400 non-null  float64\n",
      " 6   latitude               59400 non-null  float64\n",
      " 7   basin                  59400 non-null  object \n",
      " 8   region                 59400 non-null  object \n",
      " 9   district_code          59400 non-null  int64  \n",
      " 10  lga                    59400 non-null  object \n",
      " 11  population             59400 non-null  int64  \n",
      " 12  public_meeting         56066 non-null  object \n",
      " 13  permit                 56344 non-null  object \n",
      " 14  construction_year      59400 non-null  int64  \n",
      " 15  extraction_type_class  59400 non-null  object \n",
      " 16  management             59400 non-null  object \n",
      " 17  management_group       59400 non-null  object \n",
      " 18  payment_type           59400 non-null  object \n",
      " 19  quality_group          59400 non-null  object \n",
      " 20  quantity               59400 non-null  object \n",
      " 21  source                 59400 non-null  object \n",
      " 22  waterpoint_type        59400 non-null  object \n",
      "dtypes: float64(3), int64(4), object(16)\n",
      "memory usage: 10.4+ MB\n"
     ]
    }
   ],
   "source": [
    "df_train.info()"
   ]
  },
  {
   "cell_type": "markdown",
   "metadata": {},
   "source": [
    "Further pruning will likely happen when I begin feature engineering. I'm specifically thinking of 'lga', 'installer', 'funder' and the coordinate features. The first three due to their high cardinality and the coordinates because I'm not sure that level of geographic specificity is needed for an intial classification model. "
   ]
  },
  {
   "cell_type": "markdown",
   "metadata": {},
   "source": [
    "## Dealing with Missing Values"
   ]
  },
  {
   "cell_type": "markdown",
   "metadata": {},
   "source": []
  },
  {
   "cell_type": "markdown",
   "metadata": {},
   "source": [
    "### Missing data overview"
   ]
  },
  {
   "cell_type": "code",
   "execution_count": 8,
   "metadata": {},
   "outputs": [
    {
     "data": {
      "text/plain": [
       "installer                6.15\n",
       "funder                   6.12\n",
       "public_meeting           5.61\n",
       "permit                   5.14\n",
       "amount_tsh               0.00\n",
       "source                   0.00\n",
       "quantity                 0.00\n",
       "quality_group            0.00\n",
       "payment_type             0.00\n",
       "management_group         0.00\n",
       "management               0.00\n",
       "extraction_type_class    0.00\n",
       "construction_year        0.00\n",
       "population               0.00\n",
       "date_recorded            0.00\n",
       "lga                      0.00\n",
       "district_code            0.00\n",
       "region                   0.00\n",
       "basin                    0.00\n",
       "latitude                 0.00\n",
       "longitude                0.00\n",
       "gps_height               0.00\n",
       "waterpoint_type          0.00\n",
       "dtype: float64"
      ]
     },
     "execution_count": 8,
     "metadata": {},
     "output_type": "execute_result"
    }
   ],
   "source": [
    "missing = round((df_train.isna().sum() / len(df)) * 100, 2)\n",
    "missing = missing.sort_values(ascending=False)\n",
    "missing"
   ]
  },
  {
   "cell_type": "markdown",
   "metadata": {},
   "source": [
    "## String Cleaning"
   ]
  },
  {
   "cell_type": "markdown",
   "metadata": {},
   "source": []
  }
 ],
 "metadata": {
  "kernelspec": {
   "display_name": "learn-env",
   "language": "python",
   "name": "python3"
  },
  "language_info": {
   "codemirror_mode": {
    "name": "ipython",
    "version": 3
   },
   "file_extension": ".py",
   "mimetype": "text/x-python",
   "name": "python",
   "nbconvert_exporter": "python",
   "pygments_lexer": "ipython3",
   "version": "3.12.2"
  }
 },
 "nbformat": 4,
 "nbformat_minor": 2
}
