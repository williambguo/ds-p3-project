{
 "cells": [
  {
   "cell_type": "markdown",
   "metadata": {},
   "source": [
    "# Modeling and Evaluation"
   ]
  },
  {
   "cell_type": "markdown",
   "metadata": {},
   "source": [
    "In this notebook, I train my classifiers and evaluate their efficacy. Then I attempt to improve my models with hyperparameter tuning. The classifiers I will be building are:\n",
    "- Logistic Regression\n",
    "- Decision Tree\n",
    "- Random Forest\n",
    "- Support Vector Machine (SVM)"
   ]
  },
  {
   "cell_type": "code",
   "execution_count": 1,
   "metadata": {},
   "outputs": [],
   "source": [
    "import numpy as np\n",
    "import pandas as pd\n",
    "import matplotlib.pyplot as plt\n",
    "%matplotlib inline\n",
    "import seaborn as sns\n",
    "\n",
    "from sklearn.model_selection import train_test_split\n",
    "from sklearn.model_selection import GridSearchCV, RandomizedSearchCV\n",
    "from sklearn.metrics import confusion_matrix, classification_report, accuracy_score\n",
    "from sklearn.model_selection import KFold\n",
    "from sklearn.model_selection import cross_val_score\n",
    "from sklearn.preprocessing import StandardScaler\n",
    "\n",
    "from sklearn.linear_model import LogisticRegression \n",
    "from sklearn.neighbors import KNeighborsClassifier\n",
    "from sklearn.tree import DecisionTreeClassifier\n",
    "from sklearn.ensemble import RandomForestClassifier\n",
    "from sklearn.ensemble import GradientBoostingClassifier\n",
    "from sklearn.naive_bayes import GaussianNB\n",
    "from sklearn.svm import SVC\n",
    "from xgboost import XGBClassifier"
   ]
  },
  {
   "cell_type": "code",
   "execution_count": 2,
   "metadata": {},
   "outputs": [],
   "source": [
    "# Load cleaned data\n",
    "train = pd.read_csv('../data/final/train_cleaned.csv')\n",
    "test_features = pd.read_csv('../data/final/test_cleaned.csv')"
   ]
  },
  {
   "cell_type": "code",
   "execution_count": 3,
   "metadata": {},
   "outputs": [],
   "source": [
    "train_features = train.drop('target', axis=1)\n",
    "train_target = train['target']"
   ]
  },
  {
   "cell_type": "markdown",
   "metadata": {},
   "source": [
    "---"
   ]
  },
  {
   "cell_type": "markdown",
   "metadata": {},
   "source": [
    "## Dropping Unneeded Columns"
   ]
  },
  {
   "cell_type": "code",
   "execution_count": 4,
   "metadata": {},
   "outputs": [],
   "source": [
    "# Unneeded and redundant columns to drop\n",
    "columns_to_drop = ['id', 'wpt_name', 'num_private', 'subvillage', 'ward', 'recorded_by', 'scheme_name', \n",
    "                    'scheme_management', 'water_quality', 'waterpoint_type_group', 'quantity_group', 'region_code', \n",
    "                    'extraction_type', 'extraction_type_group', 'payment', 'source_class', 'source_type',\n",
    "                    'funder', 'installer', 'longitude', 'latitude', 'date_recorded', 'construction_year',\n",
    "                    'district_code']"
   ]
  },
  {
   "cell_type": "code",
   "execution_count": 5,
   "metadata": {},
   "outputs": [],
   "source": [
    "train_features = train_features.drop(columns=columns_to_drop)\n",
    "test_features = test_features.drop(columns=columns_to_drop)"
   ]
  },
  {
   "cell_type": "code",
   "execution_count": 6,
   "metadata": {},
   "outputs": [
    {
     "data": {
      "text/plain": [
       "((59400, 18), (14850, 18))"
      ]
     },
     "execution_count": 6,
     "metadata": {},
     "output_type": "execute_result"
    }
   ],
   "source": [
    "train_features.shape, test_features.shape"
   ]
  },
  {
   "cell_type": "code",
   "execution_count": null,
   "metadata": {},
   "outputs": [],
   "source": []
  },
  {
   "cell_type": "markdown",
   "metadata": {},
   "source": [
    "## Encoding Target"
   ]
  },
  {
   "cell_type": "markdown",
   "metadata": {},
   "source": [
    "0: <code>functional</code>: pump is functional\n",
    "\n",
    "1: <code>non-functional</code>: pump is not functional"
   ]
  },
  {
   "cell_type": "code",
   "execution_count": 7,
   "metadata": {},
   "outputs": [
    {
     "data": {
      "text/plain": [
       "target\n",
       "0    32259\n",
       "1    27141\n",
       "Name: count, dtype: int64"
      ]
     },
     "execution_count": 7,
     "metadata": {},
     "output_type": "execute_result"
    }
   ],
   "source": [
    "train_target = train_target.map({'functional': 0, 'non functional': 1})\n",
    "train_target.value_counts()"
   ]
  },
  {
   "cell_type": "markdown",
   "metadata": {},
   "source": [
    "## Encoding Features"
   ]
  },
  {
   "cell_type": "markdown",
   "metadata": {},
   "source": [
    "Categorical features need to be encoded before being fed into classification algorithms. "
   ]
  },
  {
   "cell_type": "code",
   "execution_count": 8,
   "metadata": {},
   "outputs": [],
   "source": [
    "# Import packages for categorical encoding\n",
    "import time\n",
    "from sklearn.preprocessing import LabelEncoder\n",
    "from sklearn.preprocessing import OneHotEncoder\n",
    "\n",
    "from category_encoders import OrdinalEncoder\n",
    "from category_encoders import CountEncoder\n",
    "from category_encoders import HashingEncoder\n",
    "from category_encoders import BackwardDifferenceEncoder\n",
    "from category_encoders import HelmertEncoder\n",
    "from category_encoders import CatBoostEncoder\n",
    "from category_encoders import GLMMEncoder"
   ]
  },
  {
   "cell_type": "markdown",
   "metadata": {},
   "source": [
    "The following encoding methods will be used:\n",
    "- <code>OrdinalEncoder()</code>: converts categorical variables to ordered numerical values\n",
    "- <code>CountEncoder()</code>: replaces each categorical variable with its frequency count in the column\n",
    "- <code>HashingEncoder()</code>: hashes categorical variables to unique one-hot vectors with configurable dimensionality\n",
    "- <code>BackwardDifferenceEncoder()</code>: the mean of the $k_{th}$ categorical variable is compared with the mean of the $k_{th}-1$\n",
    "- <code>Helmert Encoding()</code>: the mean of the $k_{th}$ categorical variable is compared with the means of all previous categorical variables\n",
    "- <code>CatBoostEncoding()</code>: similar to <code>TargetEncoder</code> which converts each categorical value with the mean appearance of its target, but also involves an ordering principle in order to overcome the \"Target Leakage\" problem\n",
    "- <code>GLMMEncoder()</code>: Generalized Linear Mixed Model - A supervised encoder similar to <code>TargetEncoder</code>, but solid statistical theory is also included. The advantage over other supervised encoders is that no parameter tuning is needed"
   ]
  },
  {
   "cell_type": "code",
   "execution_count": 9,
   "metadata": {},
   "outputs": [],
   "source": [
    "# Encoding methods\n",
    "random_state = 42\n",
    "\n",
    "encoding_methods = {\n",
    "    'ordinal': OrdinalEncoder(),\n",
    "    'count': CountEncoder(),\n",
    "    'hashing': HashingEncoder(n_components=32, drop_invariant=True),\n",
    "    'backward_difference': BackwardDifferenceEncoder(),\n",
    "    'Helmert': HelmertEncoder(),\n",
    "    'CatBoost': CatBoostEncoder(random_state=random_state),\n",
    "    'GLMM': GLMMEncoder(random_state=random_state)\n",
    "}"
   ]
  },
  {
   "cell_type": "markdown",
   "metadata": {},
   "source": [
    "## Training Classifiers"
   ]
  },
  {
   "cell_type": "markdown",
   "metadata": {},
   "source": [
    "Let's train some classification algorithms in their default state with no tuning. I will then pick the model with the higest accuracy score and proceed with hyperparameter tuning for that model. I've chosen accuracy score as the initial main evaluation metric because the classes are fairly balanced and the problem does not demand specific attention to true positives or true negatives. I'm interested in the overall correct predictions. \n",
    "\n",
    "Also, the goal of the online competition where I got this dataset from is to build a model with the highest accuracy."
   ]
  },
  {
   "cell_type": "code",
   "execution_count": 10,
   "metadata": {},
   "outputs": [],
   "source": [
    "# Classifiers\n",
    "classifiers = {\n",
    "    'Logistic Regression': LogisticRegression(max_iter=10000, n_jobs=-1, random_state=random_state),\n",
    "    'Decision Tree': DecisionTreeClassifier(random_state=random_state),\n",
    "    'Naive Bayes': GaussianNB(),\n",
    "    'Random Forest': RandomForestClassifier(random_state=random_state, n_jobs=-1),\n",
    "    'XGBoost': XGBClassifier(random_state=random_state, n_jobs=-1),\n",
    "    #'Support Vector Machine': SVC(random_state=random_state)\n",
    "}"
   ]
  },
  {
   "cell_type": "code",
   "execution_count": 27,
   "metadata": {},
   "outputs": [],
   "source": [
    "# Train test split\n",
    "X_train, X_test, y_train, y_test = train_test_split(train_features, train_target, test_size=0.2, random_state=random_state)"
   ]
  },
  {
   "cell_type": "markdown",
   "metadata": {},
   "source": [
    "The following nested loop goes through each categorical variable encoding method in <code>encoding_methods</code> and trains all classifier algorithms in <code>classifiers</code> for every encoding method. In the end it returns the pipelines with highest accuracy scores - one pipeline per classifier."
   ]
  },
  {
   "cell_type": "code",
   "execution_count": 12,
   "metadata": {},
   "outputs": [
    {
     "name": "stdout",
     "output_type": "stream",
     "text": [
      "\n",
      "----- Encoding data using ordinal Encoder -----Done in 0.19s\n",
      "Training Logistic Regression ClassifierDone in 10.1s\n",
      "Training Decision Tree ClassifierDone in 0.19s\n",
      "Training Naive Bayes ClassifierDone in 0.01s\n",
      "Training Random Forest ClassifierDone in 0.7s\n",
      "Training XGBoost ClassifierDone in 0.18s\n",
      "\n",
      "----- Encoding data using count Encoder -----Done in 0.28s\n",
      "Training Logistic Regression Classifier"
     ]
    },
    {
     "name": "stderr",
     "output_type": "stream",
     "text": [
      "/opt/anaconda3/envs/learn-env/lib/python3.12/site-packages/sklearn/linear_model/_logistic.py:469: ConvergenceWarning: lbfgs failed to converge (status=1):\n",
      "STOP: TOTAL NO. of ITERATIONS REACHED LIMIT.\n",
      "\n",
      "Increase the number of iterations (max_iter) or scale the data as shown in:\n",
      "    https://scikit-learn.org/stable/modules/preprocessing.html\n",
      "Please also refer to the documentation for alternative solver options:\n",
      "    https://scikit-learn.org/stable/modules/linear_model.html#logistic-regression\n",
      "  n_iter_i = _check_optimize_result(\n"
     ]
    },
    {
     "name": "stdout",
     "output_type": "stream",
     "text": [
      "Done in 14.46s\n",
      "Training Decision Tree ClassifierDone in 0.2s\n",
      "Training Naive Bayes ClassifierDone in 0.01s\n",
      "Training Random Forest ClassifierDone in 0.79s\n",
      "Training XGBoost ClassifierDone in 0.18s\n",
      "\n",
      "----- Encoding data using hashing Encoder -----Done in 0.48s\n",
      "Training Logistic Regression ClassifierDone in 8.87s\n",
      "Training Decision Tree ClassifierDone in 0.23s\n",
      "Training Naive Bayes ClassifierDone in 0.02s\n",
      "Training Random Forest ClassifierDone in 0.68s\n",
      "Training XGBoost ClassifierDone in 0.21s\n",
      "\n",
      "----- Encoding data using backward_difference Encoder -----"
     ]
    },
    {
     "name": "stderr",
     "output_type": "stream",
     "text": [
      "/opt/anaconda3/envs/learn-env/lib/python3.12/site-packages/category_encoders/base_contrast_encoder.py:126: FutureWarning: Intercept column might not be added anymore in future releases (c.f. issue #370)\n",
      "  warnings.warn(\"Intercept column might not be added anymore in future releases (c.f. issue #370)\",\n",
      "/opt/anaconda3/envs/learn-env/lib/python3.12/site-packages/category_encoders/base_contrast_encoder.py:126: FutureWarning: Intercept column might not be added anymore in future releases (c.f. issue #370)\n",
      "  warnings.warn(\"Intercept column might not be added anymore in future releases (c.f. issue #370)\",\n",
      "/opt/anaconda3/envs/learn-env/lib/python3.12/site-packages/category_encoders/base_contrast_encoder.py:126: FutureWarning: Intercept column might not be added anymore in future releases (c.f. issue #370)\n",
      "  warnings.warn(\"Intercept column might not be added anymore in future releases (c.f. issue #370)\",\n"
     ]
    },
    {
     "name": "stdout",
     "output_type": "stream",
     "text": [
      "Done in 0.96s\n",
      "Training Logistic Regression Classifier"
     ]
    },
    {
     "name": "stderr",
     "output_type": "stream",
     "text": [
      "/opt/anaconda3/envs/learn-env/lib/python3.12/site-packages/sklearn/linear_model/_logistic.py:469: ConvergenceWarning: lbfgs failed to converge (status=1):\n",
      "STOP: TOTAL NO. of ITERATIONS REACHED LIMIT.\n",
      "\n",
      "Increase the number of iterations (max_iter) or scale the data as shown in:\n",
      "    https://scikit-learn.org/stable/modules/preprocessing.html\n",
      "Please also refer to the documentation for alternative solver options:\n",
      "    https://scikit-learn.org/stable/modules/linear_model.html#logistic-regression\n",
      "  n_iter_i = _check_optimize_result(\n"
     ]
    },
    {
     "name": "stdout",
     "output_type": "stream",
     "text": [
      "Done in 49.89s\n",
      "Training Decision Tree ClassifierDone in 0.71s\n",
      "Training Naive Bayes ClassifierDone in 0.09s\n",
      "Training Random Forest ClassifierDone in 1.43s\n",
      "Training XGBoost ClassifierDone in 0.49s\n",
      "\n",
      "----- Encoding data using Helmert Encoder -----"
     ]
    },
    {
     "name": "stderr",
     "output_type": "stream",
     "text": [
      "/opt/anaconda3/envs/learn-env/lib/python3.12/site-packages/category_encoders/base_contrast_encoder.py:126: FutureWarning: Intercept column might not be added anymore in future releases (c.f. issue #370)\n",
      "  warnings.warn(\"Intercept column might not be added anymore in future releases (c.f. issue #370)\",\n",
      "/opt/anaconda3/envs/learn-env/lib/python3.12/site-packages/category_encoders/base_contrast_encoder.py:126: FutureWarning: Intercept column might not be added anymore in future releases (c.f. issue #370)\n",
      "  warnings.warn(\"Intercept column might not be added anymore in future releases (c.f. issue #370)\",\n",
      "/opt/anaconda3/envs/learn-env/lib/python3.12/site-packages/category_encoders/base_contrast_encoder.py:126: FutureWarning: Intercept column might not be added anymore in future releases (c.f. issue #370)\n",
      "  warnings.warn(\"Intercept column might not be added anymore in future releases (c.f. issue #370)\",\n"
     ]
    },
    {
     "name": "stdout",
     "output_type": "stream",
     "text": [
      "Done in 0.88s\n",
      "Training Logistic Regression ClassifierDone in 50.99s\n",
      "Training Decision Tree ClassifierDone in 0.98s\n",
      "Training Naive Bayes ClassifierDone in 0.1s\n",
      "Training Random Forest ClassifierDone in 1.64s\n",
      "Training XGBoost ClassifierDone in 0.42s\n",
      "\n",
      "----- Encoding data using CatBoost Encoder -----Done in 0.19s\n",
      "Training Logistic Regression Classifier"
     ]
    },
    {
     "name": "stderr",
     "output_type": "stream",
     "text": [
      "/opt/anaconda3/envs/learn-env/lib/python3.12/site-packages/sklearn/linear_model/_logistic.py:469: ConvergenceWarning: lbfgs failed to converge (status=1):\n",
      "STOP: TOTAL NO. of ITERATIONS REACHED LIMIT.\n",
      "\n",
      "Increase the number of iterations (max_iter) or scale the data as shown in:\n",
      "    https://scikit-learn.org/stable/modules/preprocessing.html\n",
      "Please also refer to the documentation for alternative solver options:\n",
      "    https://scikit-learn.org/stable/modules/linear_model.html#logistic-regression\n",
      "  n_iter_i = _check_optimize_result(\n"
     ]
    },
    {
     "name": "stdout",
     "output_type": "stream",
     "text": [
      "Done in 14.6s\n",
      "Training Decision Tree ClassifierDone in 0.9s\n",
      "Training Naive Bayes ClassifierDone in 0.01s\n",
      "Training Random Forest ClassifierDone in 2.6s\n",
      "Training XGBoost ClassifierDone in 0.24s\n",
      "\n",
      "----- Encoding data using GLMM Encoder -----Done in 20.48s\n",
      "Training Logistic Regression ClassifierDone in 7.77s\n",
      "Training Decision Tree ClassifierDone in 0.19s\n",
      "Training Naive Bayes ClassifierDone in 0.01s\n",
      "Training Random Forest ClassifierDone in 0.71s\n",
      "Training XGBoost ClassifierDone in 0.18s\n",
      "\n",
      "Classifier: Logistic Regression\tBest Score: 0.7662457912457913 on Test Data\t Using Helmert Encoder\n",
      "\n",
      "Classifier: Decision Tree\tBest Score: 0.7792087542087542 on Test Data\t Using Helmert Encoder\n",
      "\n",
      "Classifier: Naive Bayes\tBest Score: 0.7301346801346801 on Test Data\t Using CatBoost Encoder\n",
      "\n",
      "Classifier: Random Forest\tBest Score: 0.8118686868686869 on Test Data\t Using GLMM Encoder\n",
      "\n",
      "Classifier: XGBoost\tBest Score: 0.8096801346801347 on Test Data\t Using count Encoder\n"
     ]
    }
   ],
   "source": [
    "classifier_best_results = {classifier_name: (0, 'encoder') for classifier_name in classifiers.keys()}\n",
    "\n",
    "\n",
    "for encoding_method, encoder in encoding_methods.items():\n",
    "    print(f'\\n----- Encoding data using {encoding_method} Encoder -----', end='')\n",
    "\n",
    "    start_time = time.time()\n",
    "\n",
    "    encoded_X_train = encoder.fit_transform(X_train, y_train)\n",
    "    encoded_X_test = encoder.transform(X_test)\n",
    "\n",
    "    end_time = time.time()\n",
    "    print(f'Done in {round(end_time-start_time, 2)}s')\n",
    "\n",
    "    for classifier_name, clf_algorithm in classifiers.items():\n",
    "        print(f'Training {classifier_name} Classifier', end='')\n",
    "\n",
    "        start_time = time.time()\n",
    "\n",
    "        clf_algorithm.fit(encoded_X_train, y_train)\n",
    "        y_pred = clf_algorithm.predict(encoded_X_test)\n",
    "        acc = accuracy_score(y_test, y_pred)\n",
    "\n",
    "        end_time = time.time()\n",
    "        print(f'Done in {round(end_time-start_time, 2)}s')\n",
    "\n",
    "        previous_acc, _ = classifier_best_results[classifier_name]\n",
    "        if previous_acc < acc:\n",
    "            classifier_best_results[classifier_name] = (acc, encoding_method)\n",
    "\n",
    "\n",
    "for classifier_name, (score, encoding_method) in classifier_best_results.items():\n",
    "    print(f'\\nClassifier: {classifier_name}\\tBest Score: {score} on Test Data\\t Using {encoding_method} Encoder')"
   ]
  },
  {
   "cell_type": "markdown",
   "metadata": {},
   "source": [
    "The pipeline of a Random Forest classifier using a GLMM encoder for feature encoding yields the highest accuracy score with XGBoost + CountEncoder following closely behind. While the goal of the competition is to get the highest accuracy score possible, due to a slight imbalance in the target variable (even after merging the smallest class into one of the big classes) a full classification report for the \"best\" models above can provide valuable insights."
   ]
  },
  {
   "cell_type": "markdown",
   "metadata": {},
   "source": [
    "## Classification Reports"
   ]
  },
  {
   "cell_type": "code",
   "execution_count": 13,
   "metadata": {},
   "outputs": [
    {
     "name": "stderr",
     "output_type": "stream",
     "text": [
      "/opt/anaconda3/envs/learn-env/lib/python3.12/site-packages/category_encoders/base_contrast_encoder.py:126: FutureWarning: Intercept column might not be added anymore in future releases (c.f. issue #370)\n",
      "  warnings.warn(\"Intercept column might not be added anymore in future releases (c.f. issue #370)\",\n",
      "/opt/anaconda3/envs/learn-env/lib/python3.12/site-packages/category_encoders/base_contrast_encoder.py:126: FutureWarning: Intercept column might not be added anymore in future releases (c.f. issue #370)\n",
      "  warnings.warn(\"Intercept column might not be added anymore in future releases (c.f. issue #370)\",\n",
      "/opt/anaconda3/envs/learn-env/lib/python3.12/site-packages/category_encoders/base_contrast_encoder.py:126: FutureWarning: Intercept column might not be added anymore in future releases (c.f. issue #370)\n",
      "  warnings.warn(\"Intercept column might not be added anymore in future releases (c.f. issue #370)\",\n"
     ]
    },
    {
     "name": "stdout",
     "output_type": "stream",
     "text": [
      "\n",
      "-----Classifier: Logistic Regression\tEncoding: Helmert-----\n",
      "              precision    recall  f1-score   support\n",
      "\n",
      "           0       0.75      0.85      0.80      6457\n",
      "           1       0.79      0.66      0.72      5423\n",
      "\n",
      "    accuracy                           0.77     11880\n",
      "   macro avg       0.77      0.76      0.76     11880\n",
      "weighted avg       0.77      0.77      0.76     11880\n",
      "\n"
     ]
    },
    {
     "name": "stderr",
     "output_type": "stream",
     "text": [
      "/opt/anaconda3/envs/learn-env/lib/python3.12/site-packages/category_encoders/base_contrast_encoder.py:126: FutureWarning: Intercept column might not be added anymore in future releases (c.f. issue #370)\n",
      "  warnings.warn(\"Intercept column might not be added anymore in future releases (c.f. issue #370)\",\n",
      "/opt/anaconda3/envs/learn-env/lib/python3.12/site-packages/category_encoders/base_contrast_encoder.py:126: FutureWarning: Intercept column might not be added anymore in future releases (c.f. issue #370)\n",
      "  warnings.warn(\"Intercept column might not be added anymore in future releases (c.f. issue #370)\",\n",
      "/opt/anaconda3/envs/learn-env/lib/python3.12/site-packages/category_encoders/base_contrast_encoder.py:126: FutureWarning: Intercept column might not be added anymore in future releases (c.f. issue #370)\n",
      "  warnings.warn(\"Intercept column might not be added anymore in future releases (c.f. issue #370)\",\n"
     ]
    },
    {
     "name": "stdout",
     "output_type": "stream",
     "text": [
      "\n",
      "-----Classifier: Decision Tree\tEncoding: Helmert-----\n",
      "              precision    recall  f1-score   support\n",
      "\n",
      "           0       0.79      0.81      0.80      6457\n",
      "           1       0.76      0.75      0.76      5423\n",
      "\n",
      "    accuracy                           0.78     11880\n",
      "   macro avg       0.78      0.78      0.78     11880\n",
      "weighted avg       0.78      0.78      0.78     11880\n",
      "\n",
      "\n",
      "-----Classifier: Naive Bayes\tEncoding: CatBoost-----\n",
      "              precision    recall  f1-score   support\n",
      "\n",
      "           0       0.71      0.85      0.77      6457\n",
      "           1       0.77      0.59      0.67      5423\n",
      "\n",
      "    accuracy                           0.73     11880\n",
      "   macro avg       0.74      0.72      0.72     11880\n",
      "weighted avg       0.74      0.73      0.72     11880\n",
      "\n",
      "\n",
      "-----Classifier: Random Forest\tEncoding: GLMM-----\n",
      "              precision    recall  f1-score   support\n",
      "\n",
      "           0       0.81      0.85      0.83      6457\n",
      "           1       0.81      0.77      0.79      5423\n",
      "\n",
      "    accuracy                           0.81     11880\n",
      "   macro avg       0.81      0.81      0.81     11880\n",
      "weighted avg       0.81      0.81      0.81     11880\n",
      "\n",
      "\n",
      "-----Classifier: XGBoost\tEncoding: count-----\n",
      "              precision    recall  f1-score   support\n",
      "\n",
      "           0       0.79      0.88      0.83      6457\n",
      "           1       0.84      0.72      0.78      5423\n",
      "\n",
      "    accuracy                           0.81     11880\n",
      "   macro avg       0.81      0.80      0.81     11880\n",
      "weighted avg       0.81      0.81      0.81     11880\n",
      "\n"
     ]
    }
   ],
   "source": [
    "# Getting the classification reports for the highest scoring models\n",
    "scores = []\n",
    "pipelines = []\n",
    "\n",
    "for classifier_name, metric in classifier_best_results.items():\n",
    "    score, encoding_method = metric\n",
    "    encoder = encoding_methods[encoding_method]\n",
    "    encoded_X_train = encoder.fit_transform(X_train, y_train)\n",
    "    encoded_X_test = encoder.transform(X_test)\n",
    "\n",
    "    clf = classifiers[classifier_name]\n",
    "    clf.fit(encoded_X_train, y_train)\n",
    "    y_pred = clf.predict(encoded_X_test)\n",
    "\n",
    "    scores.append(score)\n",
    "    pipelines.append(classifier_name + ' - ' + encoding_method)\n",
    "\n",
    "    print(f'\\n-----Classifier: {classifier_name}\\tEncoding: {encoding_method}-----')\n",
    "    print(classification_report(y_test, y_pred))"
   ]
  },
  {
   "cell_type": "markdown",
   "metadata": {},
   "source": [
    "## Hyperparameter Tuning for Random Forest Model"
   ]
  },
  {
   "cell_type": "code",
   "execution_count": 15,
   "metadata": {},
   "outputs": [],
   "source": [
    "# Optuna, an automatic hyperparameter optimization software framework\n",
    "import optuna"
   ]
  },
  {
   "cell_type": "code",
   "execution_count": 20,
   "metadata": {},
   "outputs": [
    {
     "name": "stderr",
     "output_type": "stream",
     "text": [
      "[I 2024-10-28 02:30:27,245] A new study created in memory with name: no-name-bea90524-edcd-4b7c-b338-376b567f8cd1\n",
      "[I 2024-10-28 02:30:51,431] Trial 0 finished with value: 0.8122558922558921 and parameters: {'n_estimators': 167, 'optimizer': 'log_loss'}. Best is trial 0 with value: 0.8122558922558921.\n",
      "[I 2024-10-28 02:31:59,031] Trial 1 finished with value: 0.8137037037037036 and parameters: {'n_estimators': 497, 'optimizer': 'entropy'}. Best is trial 1 with value: 0.8137037037037036.\n",
      "[I 2024-10-28 02:32:33,017] Trial 2 finished with value: 0.8133838383838384 and parameters: {'n_estimators': 242, 'optimizer': 'log_loss'}. Best is trial 1 with value: 0.8137037037037036.\n",
      "[I 2024-10-28 02:33:01,674] Trial 3 finished with value: 0.8133838383838382 and parameters: {'n_estimators': 221, 'optimizer': 'log_loss'}. Best is trial 1 with value: 0.8137037037037036.\n",
      "[I 2024-10-28 02:33:30,111] Trial 4 finished with value: 0.8131986531986533 and parameters: {'n_estimators': 232, 'optimizer': 'entropy'}. Best is trial 1 with value: 0.8137037037037036.\n",
      "[I 2024-10-28 02:34:08,250] Trial 5 finished with value: 0.8133501683501685 and parameters: {'n_estimators': 334, 'optimizer': 'gini'}. Best is trial 1 with value: 0.8137037037037036.\n",
      "[I 2024-10-28 02:34:18,604] Trial 6 finished with value: 0.8119696969696969 and parameters: {'n_estimators': 89, 'optimizer': 'gini'}. Best is trial 1 with value: 0.8137037037037036.\n",
      "[I 2024-10-28 02:34:50,084] Trial 7 finished with value: 0.8135521885521886 and parameters: {'n_estimators': 260, 'optimizer': 'entropy'}. Best is trial 1 with value: 0.8137037037037036.\n",
      "/opt/anaconda3/envs/learn-env/lib/python3.12/site-packages/joblib/externals/loky/process_executor.py:752: UserWarning: A worker stopped while some jobs were given to the executor. This can be caused by a too short worker timeout or by a memory leak.\n",
      "  warnings.warn(\n",
      "[I 2024-10-28 02:35:17,374] Trial 8 finished with value: 0.8135185185185184 and parameters: {'n_estimators': 242, 'optimizer': 'gini'}. Best is trial 1 with value: 0.8137037037037036.\n",
      "[I 2024-10-28 02:35:35,495] Trial 9 finished with value: 0.8134343434343434 and parameters: {'n_estimators': 150, 'optimizer': 'entropy'}. Best is trial 1 with value: 0.8137037037037036.\n",
      "[I 2024-10-28 02:36:36,378] Trial 10 finished with value: 0.8136363636363637 and parameters: {'n_estimators': 491, 'optimizer': 'entropy'}. Best is trial 1 with value: 0.8137037037037036.\n",
      "/opt/anaconda3/envs/learn-env/lib/python3.12/site-packages/joblib/externals/loky/process_executor.py:752: UserWarning: A worker stopped while some jobs were given to the executor. This can be caused by a too short worker timeout or by a memory leak.\n",
      "  warnings.warn(\n",
      "[I 2024-10-28 02:37:37,271] Trial 11 finished with value: 0.8129966329966329 and parameters: {'n_estimators': 482, 'optimizer': 'entropy'}. Best is trial 1 with value: 0.8137037037037036.\n",
      "/opt/anaconda3/envs/learn-env/lib/python3.12/site-packages/joblib/externals/loky/process_executor.py:752: UserWarning: A worker stopped while some jobs were given to the executor. This can be caused by a too short worker timeout or by a memory leak.\n",
      "  warnings.warn(\n",
      "[I 2024-10-28 02:38:37,855] Trial 12 finished with value: 0.8134680134680135 and parameters: {'n_estimators': 492, 'optimizer': 'entropy'}. Best is trial 1 with value: 0.8137037037037036.\n",
      "/opt/anaconda3/envs/learn-env/lib/python3.12/site-packages/joblib/externals/loky/process_executor.py:752: UserWarning: A worker stopped while some jobs were given to the executor. This can be caused by a too short worker timeout or by a memory leak.\n",
      "  warnings.warn(\n",
      "[I 2024-10-28 02:39:25,161] Trial 13 finished with value: 0.8132828282828282 and parameters: {'n_estimators': 389, 'optimizer': 'entropy'}. Best is trial 1 with value: 0.8137037037037036.\n",
      "[I 2024-10-28 02:40:17,313] Trial 14 finished with value: 0.8136531986531989 and parameters: {'n_estimators': 413, 'optimizer': 'entropy'}. Best is trial 1 with value: 0.8137037037037036.\n",
      "[I 2024-10-28 02:41:07,109] Trial 15 finished with value: 0.8138888888888889 and parameters: {'n_estimators': 408, 'optimizer': 'entropy'}. Best is trial 15 with value: 0.8138888888888889.\n",
      "[I 2024-10-28 02:42:00,033] Trial 16 finished with value: 0.814023569023569 and parameters: {'n_estimators': 432, 'optimizer': 'entropy'}. Best is trial 16 with value: 0.814023569023569.\n",
      "[I 2024-10-28 02:42:44,735] Trial 17 finished with value: 0.8131818181818182 and parameters: {'n_estimators': 366, 'optimizer': 'entropy'}. Best is trial 16 with value: 0.814023569023569.\n",
      "[I 2024-10-28 02:43:24,130] Trial 18 finished with value: 0.8135353535353536 and parameters: {'n_estimators': 326, 'optimizer': 'log_loss'}. Best is trial 16 with value: 0.814023569023569.\n",
      "[I 2024-10-28 02:44:13,730] Trial 19 finished with value: 0.8138888888888889 and parameters: {'n_estimators': 434, 'optimizer': 'gini'}. Best is trial 16 with value: 0.814023569023569.\n",
      "/opt/anaconda3/envs/learn-env/lib/python3.12/site-packages/joblib/externals/loky/process_executor.py:752: UserWarning: A worker stopped while some jobs were given to the executor. This can be caused by a too short worker timeout or by a memory leak.\n",
      "  warnings.warn(\n",
      "[I 2024-10-28 02:44:53,832] Trial 20 finished with value: 0.8135185185185186 and parameters: {'n_estimators': 301, 'optimizer': 'entropy'}. Best is trial 16 with value: 0.814023569023569.\n",
      "[I 2024-10-28 02:45:43,158] Trial 21 finished with value: 0.8131481481481482 and parameters: {'n_estimators': 432, 'optimizer': 'gini'}. Best is trial 16 with value: 0.814023569023569.\n",
      "[I 2024-10-28 02:46:31,972] Trial 22 finished with value: 0.813198653198653 and parameters: {'n_estimators': 432, 'optimizer': 'gini'}. Best is trial 16 with value: 0.814023569023569.\n",
      "[I 2024-10-28 02:47:21,156] Trial 23 finished with value: 0.813047138047138 and parameters: {'n_estimators': 439, 'optimizer': 'gini'}. Best is trial 16 with value: 0.814023569023569.\n",
      "[I 2024-10-28 02:48:02,644] Trial 24 finished with value: 0.8129292929292931 and parameters: {'n_estimators': 370, 'optimizer': 'gini'}. Best is trial 16 with value: 0.814023569023569.\n",
      "[I 2024-10-28 02:48:48,109] Trial 25 finished with value: 0.8134680134680135 and parameters: {'n_estimators': 401, 'optimizer': 'gini'}. Best is trial 16 with value: 0.814023569023569.\n",
      "[I 2024-10-28 02:49:44,602] Trial 26 finished with value: 0.8131481481481482 and parameters: {'n_estimators': 457, 'optimizer': 'entropy'}. Best is trial 16 with value: 0.814023569023569.\n",
      "[I 2024-10-28 02:50:28,958] Trial 27 finished with value: 0.8137373737373738 and parameters: {'n_estimators': 349, 'optimizer': 'entropy'}. Best is trial 16 with value: 0.814023569023569.\n",
      "[I 2024-10-28 02:51:05,957] Trial 28 finished with value: 0.8133333333333332 and parameters: {'n_estimators': 302, 'optimizer': 'log_loss'}. Best is trial 16 with value: 0.814023569023569.\n",
      "[I 2024-10-28 02:51:58,390] Trial 29 finished with value: 0.8133333333333332 and parameters: {'n_estimators': 459, 'optimizer': 'gini'}. Best is trial 16 with value: 0.814023569023569.\n"
     ]
    },
    {
     "data": {
      "text/html": [
       "<div>\n",
       "<style scoped>\n",
       "    .dataframe tbody tr th:only-of-type {\n",
       "        vertical-align: middle;\n",
       "    }\n",
       "\n",
       "    .dataframe tbody tr th {\n",
       "        vertical-align: top;\n",
       "    }\n",
       "\n",
       "    .dataframe thead th {\n",
       "        text-align: right;\n",
       "    }\n",
       "</style>\n",
       "<table border=\"1\" class=\"dataframe\">\n",
       "  <thead>\n",
       "    <tr style=\"text-align: right;\">\n",
       "      <th></th>\n",
       "      <th>number</th>\n",
       "      <th>value</th>\n",
       "      <th>datetime_start</th>\n",
       "      <th>datetime_complete</th>\n",
       "      <th>duration</th>\n",
       "      <th>params_n_estimators</th>\n",
       "      <th>params_optimizer</th>\n",
       "      <th>state</th>\n",
       "    </tr>\n",
       "  </thead>\n",
       "  <tbody>\n",
       "    <tr>\n",
       "      <th>0</th>\n",
       "      <td>0</td>\n",
       "      <td>0.812256</td>\n",
       "      <td>2024-10-28 02:30:27.246653</td>\n",
       "      <td>2024-10-28 02:30:51.430846</td>\n",
       "      <td>0 days 00:00:24.184193</td>\n",
       "      <td>167</td>\n",
       "      <td>log_loss</td>\n",
       "      <td>COMPLETE</td>\n",
       "    </tr>\n",
       "    <tr>\n",
       "      <th>1</th>\n",
       "      <td>1</td>\n",
       "      <td>0.813704</td>\n",
       "      <td>2024-10-28 02:30:51.433244</td>\n",
       "      <td>2024-10-28 02:31:59.031249</td>\n",
       "      <td>0 days 00:01:07.598005</td>\n",
       "      <td>497</td>\n",
       "      <td>entropy</td>\n",
       "      <td>COMPLETE</td>\n",
       "    </tr>\n",
       "    <tr>\n",
       "      <th>2</th>\n",
       "      <td>2</td>\n",
       "      <td>0.813384</td>\n",
       "      <td>2024-10-28 02:31:59.034776</td>\n",
       "      <td>2024-10-28 02:32:33.017523</td>\n",
       "      <td>0 days 00:00:33.982747</td>\n",
       "      <td>242</td>\n",
       "      <td>log_loss</td>\n",
       "      <td>COMPLETE</td>\n",
       "    </tr>\n",
       "    <tr>\n",
       "      <th>3</th>\n",
       "      <td>3</td>\n",
       "      <td>0.813384</td>\n",
       "      <td>2024-10-28 02:32:33.019912</td>\n",
       "      <td>2024-10-28 02:33:01.674406</td>\n",
       "      <td>0 days 00:00:28.654494</td>\n",
       "      <td>221</td>\n",
       "      <td>log_loss</td>\n",
       "      <td>COMPLETE</td>\n",
       "    </tr>\n",
       "    <tr>\n",
       "      <th>4</th>\n",
       "      <td>4</td>\n",
       "      <td>0.813199</td>\n",
       "      <td>2024-10-28 02:33:01.677787</td>\n",
       "      <td>2024-10-28 02:33:30.111581</td>\n",
       "      <td>0 days 00:00:28.433794</td>\n",
       "      <td>232</td>\n",
       "      <td>entropy</td>\n",
       "      <td>COMPLETE</td>\n",
       "    </tr>\n",
       "    <tr>\n",
       "      <th>5</th>\n",
       "      <td>5</td>\n",
       "      <td>0.813350</td>\n",
       "      <td>2024-10-28 02:33:30.113691</td>\n",
       "      <td>2024-10-28 02:34:08.249857</td>\n",
       "      <td>0 days 00:00:38.136166</td>\n",
       "      <td>334</td>\n",
       "      <td>gini</td>\n",
       "      <td>COMPLETE</td>\n",
       "    </tr>\n",
       "    <tr>\n",
       "      <th>6</th>\n",
       "      <td>6</td>\n",
       "      <td>0.811970</td>\n",
       "      <td>2024-10-28 02:34:08.251709</td>\n",
       "      <td>2024-10-28 02:34:18.603964</td>\n",
       "      <td>0 days 00:00:10.352255</td>\n",
       "      <td>89</td>\n",
       "      <td>gini</td>\n",
       "      <td>COMPLETE</td>\n",
       "    </tr>\n",
       "    <tr>\n",
       "      <th>7</th>\n",
       "      <td>7</td>\n",
       "      <td>0.813552</td>\n",
       "      <td>2024-10-28 02:34:18.605851</td>\n",
       "      <td>2024-10-28 02:34:50.083132</td>\n",
       "      <td>0 days 00:00:31.477281</td>\n",
       "      <td>260</td>\n",
       "      <td>entropy</td>\n",
       "      <td>COMPLETE</td>\n",
       "    </tr>\n",
       "    <tr>\n",
       "      <th>8</th>\n",
       "      <td>8</td>\n",
       "      <td>0.813519</td>\n",
       "      <td>2024-10-28 02:34:50.090300</td>\n",
       "      <td>2024-10-28 02:35:17.374275</td>\n",
       "      <td>0 days 00:00:27.283975</td>\n",
       "      <td>242</td>\n",
       "      <td>gini</td>\n",
       "      <td>COMPLETE</td>\n",
       "    </tr>\n",
       "    <tr>\n",
       "      <th>9</th>\n",
       "      <td>9</td>\n",
       "      <td>0.813434</td>\n",
       "      <td>2024-10-28 02:35:17.376574</td>\n",
       "      <td>2024-10-28 02:35:35.494655</td>\n",
       "      <td>0 days 00:00:18.118081</td>\n",
       "      <td>150</td>\n",
       "      <td>entropy</td>\n",
       "      <td>COMPLETE</td>\n",
       "    </tr>\n",
       "    <tr>\n",
       "      <th>10</th>\n",
       "      <td>10</td>\n",
       "      <td>0.813636</td>\n",
       "      <td>2024-10-28 02:35:35.496899</td>\n",
       "      <td>2024-10-28 02:36:36.377504</td>\n",
       "      <td>0 days 00:01:00.880605</td>\n",
       "      <td>491</td>\n",
       "      <td>entropy</td>\n",
       "      <td>COMPLETE</td>\n",
       "    </tr>\n",
       "    <tr>\n",
       "      <th>11</th>\n",
       "      <td>11</td>\n",
       "      <td>0.812997</td>\n",
       "      <td>2024-10-28 02:36:36.380808</td>\n",
       "      <td>2024-10-28 02:37:37.269983</td>\n",
       "      <td>0 days 00:01:00.889175</td>\n",
       "      <td>482</td>\n",
       "      <td>entropy</td>\n",
       "      <td>COMPLETE</td>\n",
       "    </tr>\n",
       "    <tr>\n",
       "      <th>12</th>\n",
       "      <td>12</td>\n",
       "      <td>0.813468</td>\n",
       "      <td>2024-10-28 02:37:37.277893</td>\n",
       "      <td>2024-10-28 02:38:37.855004</td>\n",
       "      <td>0 days 00:01:00.577111</td>\n",
       "      <td>492</td>\n",
       "      <td>entropy</td>\n",
       "      <td>COMPLETE</td>\n",
       "    </tr>\n",
       "    <tr>\n",
       "      <th>13</th>\n",
       "      <td>13</td>\n",
       "      <td>0.813283</td>\n",
       "      <td>2024-10-28 02:38:37.857669</td>\n",
       "      <td>2024-10-28 02:39:25.160602</td>\n",
       "      <td>0 days 00:00:47.302933</td>\n",
       "      <td>389</td>\n",
       "      <td>entropy</td>\n",
       "      <td>COMPLETE</td>\n",
       "    </tr>\n",
       "    <tr>\n",
       "      <th>14</th>\n",
       "      <td>14</td>\n",
       "      <td>0.813653</td>\n",
       "      <td>2024-10-28 02:39:25.162848</td>\n",
       "      <td>2024-10-28 02:40:17.312664</td>\n",
       "      <td>0 days 00:00:52.149816</td>\n",
       "      <td>413</td>\n",
       "      <td>entropy</td>\n",
       "      <td>COMPLETE</td>\n",
       "    </tr>\n",
       "    <tr>\n",
       "      <th>15</th>\n",
       "      <td>15</td>\n",
       "      <td>0.813889</td>\n",
       "      <td>2024-10-28 02:40:17.314925</td>\n",
       "      <td>2024-10-28 02:41:07.108814</td>\n",
       "      <td>0 days 00:00:49.793889</td>\n",
       "      <td>408</td>\n",
       "      <td>entropy</td>\n",
       "      <td>COMPLETE</td>\n",
       "    </tr>\n",
       "    <tr>\n",
       "      <th>16</th>\n",
       "      <td>16</td>\n",
       "      <td>0.814024</td>\n",
       "      <td>2024-10-28 02:41:07.110922</td>\n",
       "      <td>2024-10-28 02:42:00.033079</td>\n",
       "      <td>0 days 00:00:52.922157</td>\n",
       "      <td>432</td>\n",
       "      <td>entropy</td>\n",
       "      <td>COMPLETE</td>\n",
       "    </tr>\n",
       "    <tr>\n",
       "      <th>17</th>\n",
       "      <td>17</td>\n",
       "      <td>0.813182</td>\n",
       "      <td>2024-10-28 02:42:00.034816</td>\n",
       "      <td>2024-10-28 02:42:44.734584</td>\n",
       "      <td>0 days 00:00:44.699768</td>\n",
       "      <td>366</td>\n",
       "      <td>entropy</td>\n",
       "      <td>COMPLETE</td>\n",
       "    </tr>\n",
       "    <tr>\n",
       "      <th>18</th>\n",
       "      <td>18</td>\n",
       "      <td>0.813535</td>\n",
       "      <td>2024-10-28 02:42:44.737093</td>\n",
       "      <td>2024-10-28 02:43:24.130026</td>\n",
       "      <td>0 days 00:00:39.392933</td>\n",
       "      <td>326</td>\n",
       "      <td>log_loss</td>\n",
       "      <td>COMPLETE</td>\n",
       "    </tr>\n",
       "    <tr>\n",
       "      <th>19</th>\n",
       "      <td>19</td>\n",
       "      <td>0.813889</td>\n",
       "      <td>2024-10-28 02:43:24.132149</td>\n",
       "      <td>2024-10-28 02:44:13.729637</td>\n",
       "      <td>0 days 00:00:49.597488</td>\n",
       "      <td>434</td>\n",
       "      <td>gini</td>\n",
       "      <td>COMPLETE</td>\n",
       "    </tr>\n",
       "    <tr>\n",
       "      <th>20</th>\n",
       "      <td>20</td>\n",
       "      <td>0.813519</td>\n",
       "      <td>2024-10-28 02:44:13.732247</td>\n",
       "      <td>2024-10-28 02:44:53.832220</td>\n",
       "      <td>0 days 00:00:40.099973</td>\n",
       "      <td>301</td>\n",
       "      <td>entropy</td>\n",
       "      <td>COMPLETE</td>\n",
       "    </tr>\n",
       "    <tr>\n",
       "      <th>21</th>\n",
       "      <td>21</td>\n",
       "      <td>0.813148</td>\n",
       "      <td>2024-10-28 02:44:53.835060</td>\n",
       "      <td>2024-10-28 02:45:43.158189</td>\n",
       "      <td>0 days 00:00:49.323129</td>\n",
       "      <td>432</td>\n",
       "      <td>gini</td>\n",
       "      <td>COMPLETE</td>\n",
       "    </tr>\n",
       "    <tr>\n",
       "      <th>22</th>\n",
       "      <td>22</td>\n",
       "      <td>0.813199</td>\n",
       "      <td>2024-10-28 02:45:43.160266</td>\n",
       "      <td>2024-10-28 02:46:31.971781</td>\n",
       "      <td>0 days 00:00:48.811515</td>\n",
       "      <td>432</td>\n",
       "      <td>gini</td>\n",
       "      <td>COMPLETE</td>\n",
       "    </tr>\n",
       "    <tr>\n",
       "      <th>23</th>\n",
       "      <td>23</td>\n",
       "      <td>0.813047</td>\n",
       "      <td>2024-10-28 02:46:31.973531</td>\n",
       "      <td>2024-10-28 02:47:21.156384</td>\n",
       "      <td>0 days 00:00:49.182853</td>\n",
       "      <td>439</td>\n",
       "      <td>gini</td>\n",
       "      <td>COMPLETE</td>\n",
       "    </tr>\n",
       "    <tr>\n",
       "      <th>24</th>\n",
       "      <td>24</td>\n",
       "      <td>0.812929</td>\n",
       "      <td>2024-10-28 02:47:21.158784</td>\n",
       "      <td>2024-10-28 02:48:02.644457</td>\n",
       "      <td>0 days 00:00:41.485673</td>\n",
       "      <td>370</td>\n",
       "      <td>gini</td>\n",
       "      <td>COMPLETE</td>\n",
       "    </tr>\n",
       "    <tr>\n",
       "      <th>25</th>\n",
       "      <td>25</td>\n",
       "      <td>0.813468</td>\n",
       "      <td>2024-10-28 02:48:02.646702</td>\n",
       "      <td>2024-10-28 02:48:48.109480</td>\n",
       "      <td>0 days 00:00:45.462778</td>\n",
       "      <td>401</td>\n",
       "      <td>gini</td>\n",
       "      <td>COMPLETE</td>\n",
       "    </tr>\n",
       "    <tr>\n",
       "      <th>26</th>\n",
       "      <td>26</td>\n",
       "      <td>0.813148</td>\n",
       "      <td>2024-10-28 02:48:48.111727</td>\n",
       "      <td>2024-10-28 02:49:44.602260</td>\n",
       "      <td>0 days 00:00:56.490533</td>\n",
       "      <td>457</td>\n",
       "      <td>entropy</td>\n",
       "      <td>COMPLETE</td>\n",
       "    </tr>\n",
       "    <tr>\n",
       "      <th>27</th>\n",
       "      <td>27</td>\n",
       "      <td>0.813737</td>\n",
       "      <td>2024-10-28 02:49:44.604644</td>\n",
       "      <td>2024-10-28 02:50:28.958346</td>\n",
       "      <td>0 days 00:00:44.353702</td>\n",
       "      <td>349</td>\n",
       "      <td>entropy</td>\n",
       "      <td>COMPLETE</td>\n",
       "    </tr>\n",
       "    <tr>\n",
       "      <th>28</th>\n",
       "      <td>28</td>\n",
       "      <td>0.813333</td>\n",
       "      <td>2024-10-28 02:50:28.960443</td>\n",
       "      <td>2024-10-28 02:51:05.957522</td>\n",
       "      <td>0 days 00:00:36.997079</td>\n",
       "      <td>302</td>\n",
       "      <td>log_loss</td>\n",
       "      <td>COMPLETE</td>\n",
       "    </tr>\n",
       "    <tr>\n",
       "      <th>29</th>\n",
       "      <td>29</td>\n",
       "      <td>0.813333</td>\n",
       "      <td>2024-10-28 02:51:05.959427</td>\n",
       "      <td>2024-10-28 02:51:58.389693</td>\n",
       "      <td>0 days 00:00:52.430266</td>\n",
       "      <td>459</td>\n",
       "      <td>gini</td>\n",
       "      <td>COMPLETE</td>\n",
       "    </tr>\n",
       "  </tbody>\n",
       "</table>\n",
       "</div>"
      ],
      "text/plain": [
       "    number     value             datetime_start          datetime_complete  \\\n",
       "0        0  0.812256 2024-10-28 02:30:27.246653 2024-10-28 02:30:51.430846   \n",
       "1        1  0.813704 2024-10-28 02:30:51.433244 2024-10-28 02:31:59.031249   \n",
       "2        2  0.813384 2024-10-28 02:31:59.034776 2024-10-28 02:32:33.017523   \n",
       "3        3  0.813384 2024-10-28 02:32:33.019912 2024-10-28 02:33:01.674406   \n",
       "4        4  0.813199 2024-10-28 02:33:01.677787 2024-10-28 02:33:30.111581   \n",
       "5        5  0.813350 2024-10-28 02:33:30.113691 2024-10-28 02:34:08.249857   \n",
       "6        6  0.811970 2024-10-28 02:34:08.251709 2024-10-28 02:34:18.603964   \n",
       "7        7  0.813552 2024-10-28 02:34:18.605851 2024-10-28 02:34:50.083132   \n",
       "8        8  0.813519 2024-10-28 02:34:50.090300 2024-10-28 02:35:17.374275   \n",
       "9        9  0.813434 2024-10-28 02:35:17.376574 2024-10-28 02:35:35.494655   \n",
       "10      10  0.813636 2024-10-28 02:35:35.496899 2024-10-28 02:36:36.377504   \n",
       "11      11  0.812997 2024-10-28 02:36:36.380808 2024-10-28 02:37:37.269983   \n",
       "12      12  0.813468 2024-10-28 02:37:37.277893 2024-10-28 02:38:37.855004   \n",
       "13      13  0.813283 2024-10-28 02:38:37.857669 2024-10-28 02:39:25.160602   \n",
       "14      14  0.813653 2024-10-28 02:39:25.162848 2024-10-28 02:40:17.312664   \n",
       "15      15  0.813889 2024-10-28 02:40:17.314925 2024-10-28 02:41:07.108814   \n",
       "16      16  0.814024 2024-10-28 02:41:07.110922 2024-10-28 02:42:00.033079   \n",
       "17      17  0.813182 2024-10-28 02:42:00.034816 2024-10-28 02:42:44.734584   \n",
       "18      18  0.813535 2024-10-28 02:42:44.737093 2024-10-28 02:43:24.130026   \n",
       "19      19  0.813889 2024-10-28 02:43:24.132149 2024-10-28 02:44:13.729637   \n",
       "20      20  0.813519 2024-10-28 02:44:13.732247 2024-10-28 02:44:53.832220   \n",
       "21      21  0.813148 2024-10-28 02:44:53.835060 2024-10-28 02:45:43.158189   \n",
       "22      22  0.813199 2024-10-28 02:45:43.160266 2024-10-28 02:46:31.971781   \n",
       "23      23  0.813047 2024-10-28 02:46:31.973531 2024-10-28 02:47:21.156384   \n",
       "24      24  0.812929 2024-10-28 02:47:21.158784 2024-10-28 02:48:02.644457   \n",
       "25      25  0.813468 2024-10-28 02:48:02.646702 2024-10-28 02:48:48.109480   \n",
       "26      26  0.813148 2024-10-28 02:48:48.111727 2024-10-28 02:49:44.602260   \n",
       "27      27  0.813737 2024-10-28 02:49:44.604644 2024-10-28 02:50:28.958346   \n",
       "28      28  0.813333 2024-10-28 02:50:28.960443 2024-10-28 02:51:05.957522   \n",
       "29      29  0.813333 2024-10-28 02:51:05.959427 2024-10-28 02:51:58.389693   \n",
       "\n",
       "                 duration  params_n_estimators params_optimizer     state  \n",
       "0  0 days 00:00:24.184193                  167         log_loss  COMPLETE  \n",
       "1  0 days 00:01:07.598005                  497          entropy  COMPLETE  \n",
       "2  0 days 00:00:33.982747                  242         log_loss  COMPLETE  \n",
       "3  0 days 00:00:28.654494                  221         log_loss  COMPLETE  \n",
       "4  0 days 00:00:28.433794                  232          entropy  COMPLETE  \n",
       "5  0 days 00:00:38.136166                  334             gini  COMPLETE  \n",
       "6  0 days 00:00:10.352255                   89             gini  COMPLETE  \n",
       "7  0 days 00:00:31.477281                  260          entropy  COMPLETE  \n",
       "8  0 days 00:00:27.283975                  242             gini  COMPLETE  \n",
       "9  0 days 00:00:18.118081                  150          entropy  COMPLETE  \n",
       "10 0 days 00:01:00.880605                  491          entropy  COMPLETE  \n",
       "11 0 days 00:01:00.889175                  482          entropy  COMPLETE  \n",
       "12 0 days 00:01:00.577111                  492          entropy  COMPLETE  \n",
       "13 0 days 00:00:47.302933                  389          entropy  COMPLETE  \n",
       "14 0 days 00:00:52.149816                  413          entropy  COMPLETE  \n",
       "15 0 days 00:00:49.793889                  408          entropy  COMPLETE  \n",
       "16 0 days 00:00:52.922157                  432          entropy  COMPLETE  \n",
       "17 0 days 00:00:44.699768                  366          entropy  COMPLETE  \n",
       "18 0 days 00:00:39.392933                  326         log_loss  COMPLETE  \n",
       "19 0 days 00:00:49.597488                  434             gini  COMPLETE  \n",
       "20 0 days 00:00:40.099973                  301          entropy  COMPLETE  \n",
       "21 0 days 00:00:49.323129                  432             gini  COMPLETE  \n",
       "22 0 days 00:00:48.811515                  432             gini  COMPLETE  \n",
       "23 0 days 00:00:49.182853                  439             gini  COMPLETE  \n",
       "24 0 days 00:00:41.485673                  370             gini  COMPLETE  \n",
       "25 0 days 00:00:45.462778                  401             gini  COMPLETE  \n",
       "26 0 days 00:00:56.490533                  457          entropy  COMPLETE  \n",
       "27 0 days 00:00:44.353702                  349          entropy  COMPLETE  \n",
       "28 0 days 00:00:36.997079                  302         log_loss  COMPLETE  \n",
       "29 0 days 00:00:52.430266                  459             gini  COMPLETE  "
      ]
     },
     "execution_count": 20,
     "metadata": {},
     "output_type": "execute_result"
    }
   ],
   "source": [
    "# Creating a function to optimize the hyperparameters of my Random Forest classifier in order to maximize accuracy\n",
    "\n",
    "n_trials = 30\n",
    "\n",
    "encoder = GLMMEncoder()\n",
    "X_train = encoder.fit_transform(train_features, train_target)\n",
    "\n",
    "def rf_objective(trial):\n",
    "    n_estimators = trial.suggest_int('n_estimators', 50, 500)\n",
    "    optimizer = trial.suggest_categorical('optimizer', ['gini', 'entropy', 'log_loss'])\n",
    "    rf_clf = RandomForestClassifier(n_estimators=n_estimators, criterion=optimizer)\n",
    "    avg_acc = cross_val_score(rf_clf, X_train, train_target, cv=10, n_jobs=-1).mean()\n",
    "    return avg_acc\n",
    "\n",
    "\n",
    "rf_study = optuna.create_study(direction='maximize')\n",
    "rf_study.optimize(rf_objective, n_trials=n_trials)\n",
    "rf_study.trials_dataframe()"
   ]
  },
  {
   "cell_type": "markdown",
   "metadata": {},
   "source": [
    "In the interest of time I set the number of trials to just 30 and obtained the above results."
   ]
  },
  {
   "cell_type": "code",
   "execution_count": 21,
   "metadata": {},
   "outputs": [
    {
     "data": {
      "application/vnd.plotly.v1+json": {
       "config": {
        "plotlyServerURL": "https://plot.ly"
       },
       "data": [
        {
         "colorbar": {
          "title": {
           "text": "Objective Value"
          }
         },
         "colorscale": [
          [
           0,
           "rgb(247,251,255)"
          ],
          [
           0.125,
           "rgb(222,235,247)"
          ],
          [
           0.25,
           "rgb(198,219,239)"
          ],
          [
           0.375,
           "rgb(158,202,225)"
          ],
          [
           0.5,
           "rgb(107,174,214)"
          ],
          [
           0.625,
           "rgb(66,146,198)"
          ],
          [
           0.75,
           "rgb(33,113,181)"
          ],
          [
           0.875,
           "rgb(8,81,156)"
          ],
          [
           1,
           "rgb(8,48,107)"
          ]
         ],
         "connectgaps": true,
         "contours": {
          "coloring": "heatmap"
         },
         "hoverinfo": "none",
         "line": {
          "smoothing": 1.3
         },
         "reversescale": false,
         "type": "contour",
         "x": [
          68.6,
          89,
          150,
          167,
          221,
          232,
          242,
          260,
          301,
          302,
          326,
          334,
          349,
          366,
          370,
          389,
          401,
          408,
          413,
          432,
          434,
          439,
          457,
          459,
          482,
          491,
          492,
          497,
          517.4
         ],
         "y": [
          "entropy",
          "gini",
          "log_loss"
         ],
         "z": [
          [
           null,
           null,
           0.8134343434343434,
           null,
           null,
           0.8131986531986533,
           null,
           0.8135521885521886,
           0.8135185185185186,
           null,
           null,
           null,
           0.8137373737373738,
           0.8131818181818182,
           null,
           0.8132828282828282,
           null,
           0.8138888888888889,
           0.8136531986531989,
           0.814023569023569,
           null,
           null,
           0.8131481481481482,
           null,
           0.8129966329966329,
           0.8136363636363637,
           0.8134680134680135,
           0.8137037037037036,
           null
          ],
          [
           null,
           0.8119696969696969,
           null,
           null,
           null,
           null,
           0.8135185185185184,
           null,
           null,
           null,
           null,
           0.8133501683501685,
           null,
           null,
           0.8129292929292931,
           null,
           0.8134680134680135,
           null,
           null,
           0.813198653198653,
           0.8138888888888889,
           0.813047138047138,
           null,
           0.8133333333333332,
           null,
           null,
           null,
           null,
           null
          ],
          [
           null,
           null,
           null,
           0.8122558922558921,
           0.8133838383838382,
           null,
           0.8133838383838384,
           null,
           null,
           0.8133333333333332,
           0.8135353535353536,
           null,
           null,
           null,
           null,
           null,
           null,
           null,
           null,
           null,
           null,
           null,
           null,
           null,
           null,
           null,
           null,
           null,
           null
          ]
         ]
        },
        {
         "marker": {
          "color": "black",
          "line": {
           "color": "Gray",
           "width": 2
          }
         },
         "mode": "markers",
         "name": "Feasible Trial",
         "showlegend": false,
         "type": "scatter",
         "x": [
          167,
          497,
          242,
          221,
          232,
          334,
          89,
          260,
          242,
          150,
          491,
          482,
          492,
          389,
          413,
          408,
          432,
          366,
          326,
          434,
          301,
          432,
          432,
          439,
          370,
          401,
          457,
          349,
          302,
          459
         ],
         "y": [
          "log_loss",
          "entropy",
          "log_loss",
          "log_loss",
          "entropy",
          "gini",
          "gini",
          "entropy",
          "gini",
          "entropy",
          "entropy",
          "entropy",
          "entropy",
          "entropy",
          "entropy",
          "entropy",
          "entropy",
          "entropy",
          "log_loss",
          "gini",
          "entropy",
          "gini",
          "gini",
          "gini",
          "gini",
          "gini",
          "entropy",
          "entropy",
          "log_loss",
          "gini"
         ]
        },
        {
         "marker": {
          "color": "#cccccc",
          "line": {
           "color": "Gray",
           "width": 2
          }
         },
         "mode": "markers",
         "name": "Infeasible Trial",
         "showlegend": false,
         "type": "scatter",
         "x": [],
         "y": []
        }
       ],
       "layout": {
        "template": {
         "data": {
          "bar": [
           {
            "error_x": {
             "color": "#2a3f5f"
            },
            "error_y": {
             "color": "#2a3f5f"
            },
            "marker": {
             "line": {
              "color": "#E5ECF6",
              "width": 0.5
             },
             "pattern": {
              "fillmode": "overlay",
              "size": 10,
              "solidity": 0.2
             }
            },
            "type": "bar"
           }
          ],
          "barpolar": [
           {
            "marker": {
             "line": {
              "color": "#E5ECF6",
              "width": 0.5
             },
             "pattern": {
              "fillmode": "overlay",
              "size": 10,
              "solidity": 0.2
             }
            },
            "type": "barpolar"
           }
          ],
          "carpet": [
           {
            "aaxis": {
             "endlinecolor": "#2a3f5f",
             "gridcolor": "white",
             "linecolor": "white",
             "minorgridcolor": "white",
             "startlinecolor": "#2a3f5f"
            },
            "baxis": {
             "endlinecolor": "#2a3f5f",
             "gridcolor": "white",
             "linecolor": "white",
             "minorgridcolor": "white",
             "startlinecolor": "#2a3f5f"
            },
            "type": "carpet"
           }
          ],
          "choropleth": [
           {
            "colorbar": {
             "outlinewidth": 0,
             "ticks": ""
            },
            "type": "choropleth"
           }
          ],
          "contour": [
           {
            "colorbar": {
             "outlinewidth": 0,
             "ticks": ""
            },
            "colorscale": [
             [
              0,
              "#0d0887"
             ],
             [
              0.1111111111111111,
              "#46039f"
             ],
             [
              0.2222222222222222,
              "#7201a8"
             ],
             [
              0.3333333333333333,
              "#9c179e"
             ],
             [
              0.4444444444444444,
              "#bd3786"
             ],
             [
              0.5555555555555556,
              "#d8576b"
             ],
             [
              0.6666666666666666,
              "#ed7953"
             ],
             [
              0.7777777777777778,
              "#fb9f3a"
             ],
             [
              0.8888888888888888,
              "#fdca26"
             ],
             [
              1,
              "#f0f921"
             ]
            ],
            "type": "contour"
           }
          ],
          "contourcarpet": [
           {
            "colorbar": {
             "outlinewidth": 0,
             "ticks": ""
            },
            "type": "contourcarpet"
           }
          ],
          "heatmap": [
           {
            "colorbar": {
             "outlinewidth": 0,
             "ticks": ""
            },
            "colorscale": [
             [
              0,
              "#0d0887"
             ],
             [
              0.1111111111111111,
              "#46039f"
             ],
             [
              0.2222222222222222,
              "#7201a8"
             ],
             [
              0.3333333333333333,
              "#9c179e"
             ],
             [
              0.4444444444444444,
              "#bd3786"
             ],
             [
              0.5555555555555556,
              "#d8576b"
             ],
             [
              0.6666666666666666,
              "#ed7953"
             ],
             [
              0.7777777777777778,
              "#fb9f3a"
             ],
             [
              0.8888888888888888,
              "#fdca26"
             ],
             [
              1,
              "#f0f921"
             ]
            ],
            "type": "heatmap"
           }
          ],
          "heatmapgl": [
           {
            "colorbar": {
             "outlinewidth": 0,
             "ticks": ""
            },
            "colorscale": [
             [
              0,
              "#0d0887"
             ],
             [
              0.1111111111111111,
              "#46039f"
             ],
             [
              0.2222222222222222,
              "#7201a8"
             ],
             [
              0.3333333333333333,
              "#9c179e"
             ],
             [
              0.4444444444444444,
              "#bd3786"
             ],
             [
              0.5555555555555556,
              "#d8576b"
             ],
             [
              0.6666666666666666,
              "#ed7953"
             ],
             [
              0.7777777777777778,
              "#fb9f3a"
             ],
             [
              0.8888888888888888,
              "#fdca26"
             ],
             [
              1,
              "#f0f921"
             ]
            ],
            "type": "heatmapgl"
           }
          ],
          "histogram": [
           {
            "marker": {
             "pattern": {
              "fillmode": "overlay",
              "size": 10,
              "solidity": 0.2
             }
            },
            "type": "histogram"
           }
          ],
          "histogram2d": [
           {
            "colorbar": {
             "outlinewidth": 0,
             "ticks": ""
            },
            "colorscale": [
             [
              0,
              "#0d0887"
             ],
             [
              0.1111111111111111,
              "#46039f"
             ],
             [
              0.2222222222222222,
              "#7201a8"
             ],
             [
              0.3333333333333333,
              "#9c179e"
             ],
             [
              0.4444444444444444,
              "#bd3786"
             ],
             [
              0.5555555555555556,
              "#d8576b"
             ],
             [
              0.6666666666666666,
              "#ed7953"
             ],
             [
              0.7777777777777778,
              "#fb9f3a"
             ],
             [
              0.8888888888888888,
              "#fdca26"
             ],
             [
              1,
              "#f0f921"
             ]
            ],
            "type": "histogram2d"
           }
          ],
          "histogram2dcontour": [
           {
            "colorbar": {
             "outlinewidth": 0,
             "ticks": ""
            },
            "colorscale": [
             [
              0,
              "#0d0887"
             ],
             [
              0.1111111111111111,
              "#46039f"
             ],
             [
              0.2222222222222222,
              "#7201a8"
             ],
             [
              0.3333333333333333,
              "#9c179e"
             ],
             [
              0.4444444444444444,
              "#bd3786"
             ],
             [
              0.5555555555555556,
              "#d8576b"
             ],
             [
              0.6666666666666666,
              "#ed7953"
             ],
             [
              0.7777777777777778,
              "#fb9f3a"
             ],
             [
              0.8888888888888888,
              "#fdca26"
             ],
             [
              1,
              "#f0f921"
             ]
            ],
            "type": "histogram2dcontour"
           }
          ],
          "mesh3d": [
           {
            "colorbar": {
             "outlinewidth": 0,
             "ticks": ""
            },
            "type": "mesh3d"
           }
          ],
          "parcoords": [
           {
            "line": {
             "colorbar": {
              "outlinewidth": 0,
              "ticks": ""
             }
            },
            "type": "parcoords"
           }
          ],
          "pie": [
           {
            "automargin": true,
            "type": "pie"
           }
          ],
          "scatter": [
           {
            "fillpattern": {
             "fillmode": "overlay",
             "size": 10,
             "solidity": 0.2
            },
            "type": "scatter"
           }
          ],
          "scatter3d": [
           {
            "line": {
             "colorbar": {
              "outlinewidth": 0,
              "ticks": ""
             }
            },
            "marker": {
             "colorbar": {
              "outlinewidth": 0,
              "ticks": ""
             }
            },
            "type": "scatter3d"
           }
          ],
          "scattercarpet": [
           {
            "marker": {
             "colorbar": {
              "outlinewidth": 0,
              "ticks": ""
             }
            },
            "type": "scattercarpet"
           }
          ],
          "scattergeo": [
           {
            "marker": {
             "colorbar": {
              "outlinewidth": 0,
              "ticks": ""
             }
            },
            "type": "scattergeo"
           }
          ],
          "scattergl": [
           {
            "marker": {
             "colorbar": {
              "outlinewidth": 0,
              "ticks": ""
             }
            },
            "type": "scattergl"
           }
          ],
          "scattermapbox": [
           {
            "marker": {
             "colorbar": {
              "outlinewidth": 0,
              "ticks": ""
             }
            },
            "type": "scattermapbox"
           }
          ],
          "scatterpolar": [
           {
            "marker": {
             "colorbar": {
              "outlinewidth": 0,
              "ticks": ""
             }
            },
            "type": "scatterpolar"
           }
          ],
          "scatterpolargl": [
           {
            "marker": {
             "colorbar": {
              "outlinewidth": 0,
              "ticks": ""
             }
            },
            "type": "scatterpolargl"
           }
          ],
          "scatterternary": [
           {
            "marker": {
             "colorbar": {
              "outlinewidth": 0,
              "ticks": ""
             }
            },
            "type": "scatterternary"
           }
          ],
          "surface": [
           {
            "colorbar": {
             "outlinewidth": 0,
             "ticks": ""
            },
            "colorscale": [
             [
              0,
              "#0d0887"
             ],
             [
              0.1111111111111111,
              "#46039f"
             ],
             [
              0.2222222222222222,
              "#7201a8"
             ],
             [
              0.3333333333333333,
              "#9c179e"
             ],
             [
              0.4444444444444444,
              "#bd3786"
             ],
             [
              0.5555555555555556,
              "#d8576b"
             ],
             [
              0.6666666666666666,
              "#ed7953"
             ],
             [
              0.7777777777777778,
              "#fb9f3a"
             ],
             [
              0.8888888888888888,
              "#fdca26"
             ],
             [
              1,
              "#f0f921"
             ]
            ],
            "type": "surface"
           }
          ],
          "table": [
           {
            "cells": {
             "fill": {
              "color": "#EBF0F8"
             },
             "line": {
              "color": "white"
             }
            },
            "header": {
             "fill": {
              "color": "#C8D4E3"
             },
             "line": {
              "color": "white"
             }
            },
            "type": "table"
           }
          ]
         },
         "layout": {
          "annotationdefaults": {
           "arrowcolor": "#2a3f5f",
           "arrowhead": 0,
           "arrowwidth": 1
          },
          "autotypenumbers": "strict",
          "coloraxis": {
           "colorbar": {
            "outlinewidth": 0,
            "ticks": ""
           }
          },
          "colorscale": {
           "diverging": [
            [
             0,
             "#8e0152"
            ],
            [
             0.1,
             "#c51b7d"
            ],
            [
             0.2,
             "#de77ae"
            ],
            [
             0.3,
             "#f1b6da"
            ],
            [
             0.4,
             "#fde0ef"
            ],
            [
             0.5,
             "#f7f7f7"
            ],
            [
             0.6,
             "#e6f5d0"
            ],
            [
             0.7,
             "#b8e186"
            ],
            [
             0.8,
             "#7fbc41"
            ],
            [
             0.9,
             "#4d9221"
            ],
            [
             1,
             "#276419"
            ]
           ],
           "sequential": [
            [
             0,
             "#0d0887"
            ],
            [
             0.1111111111111111,
             "#46039f"
            ],
            [
             0.2222222222222222,
             "#7201a8"
            ],
            [
             0.3333333333333333,
             "#9c179e"
            ],
            [
             0.4444444444444444,
             "#bd3786"
            ],
            [
             0.5555555555555556,
             "#d8576b"
            ],
            [
             0.6666666666666666,
             "#ed7953"
            ],
            [
             0.7777777777777778,
             "#fb9f3a"
            ],
            [
             0.8888888888888888,
             "#fdca26"
            ],
            [
             1,
             "#f0f921"
            ]
           ],
           "sequentialminus": [
            [
             0,
             "#0d0887"
            ],
            [
             0.1111111111111111,
             "#46039f"
            ],
            [
             0.2222222222222222,
             "#7201a8"
            ],
            [
             0.3333333333333333,
             "#9c179e"
            ],
            [
             0.4444444444444444,
             "#bd3786"
            ],
            [
             0.5555555555555556,
             "#d8576b"
            ],
            [
             0.6666666666666666,
             "#ed7953"
            ],
            [
             0.7777777777777778,
             "#fb9f3a"
            ],
            [
             0.8888888888888888,
             "#fdca26"
            ],
            [
             1,
             "#f0f921"
            ]
           ]
          },
          "colorway": [
           "#636efa",
           "#EF553B",
           "#00cc96",
           "#ab63fa",
           "#FFA15A",
           "#19d3f3",
           "#FF6692",
           "#B6E880",
           "#FF97FF",
           "#FECB52"
          ],
          "font": {
           "color": "#2a3f5f"
          },
          "geo": {
           "bgcolor": "white",
           "lakecolor": "white",
           "landcolor": "#E5ECF6",
           "showlakes": true,
           "showland": true,
           "subunitcolor": "white"
          },
          "hoverlabel": {
           "align": "left"
          },
          "hovermode": "closest",
          "mapbox": {
           "style": "light"
          },
          "paper_bgcolor": "white",
          "plot_bgcolor": "#E5ECF6",
          "polar": {
           "angularaxis": {
            "gridcolor": "white",
            "linecolor": "white",
            "ticks": ""
           },
           "bgcolor": "#E5ECF6",
           "radialaxis": {
            "gridcolor": "white",
            "linecolor": "white",
            "ticks": ""
           }
          },
          "scene": {
           "xaxis": {
            "backgroundcolor": "#E5ECF6",
            "gridcolor": "white",
            "gridwidth": 2,
            "linecolor": "white",
            "showbackground": true,
            "ticks": "",
            "zerolinecolor": "white"
           },
           "yaxis": {
            "backgroundcolor": "#E5ECF6",
            "gridcolor": "white",
            "gridwidth": 2,
            "linecolor": "white",
            "showbackground": true,
            "ticks": "",
            "zerolinecolor": "white"
           },
           "zaxis": {
            "backgroundcolor": "#E5ECF6",
            "gridcolor": "white",
            "gridwidth": 2,
            "linecolor": "white",
            "showbackground": true,
            "ticks": "",
            "zerolinecolor": "white"
           }
          },
          "shapedefaults": {
           "line": {
            "color": "#2a3f5f"
           }
          },
          "ternary": {
           "aaxis": {
            "gridcolor": "white",
            "linecolor": "white",
            "ticks": ""
           },
           "baxis": {
            "gridcolor": "white",
            "linecolor": "white",
            "ticks": ""
           },
           "bgcolor": "#E5ECF6",
           "caxis": {
            "gridcolor": "white",
            "linecolor": "white",
            "ticks": ""
           }
          },
          "title": {
           "x": 0.05
          },
          "xaxis": {
           "automargin": true,
           "gridcolor": "white",
           "linecolor": "white",
           "ticks": "",
           "title": {
            "standoff": 15
           },
           "zerolinecolor": "white",
           "zerolinewidth": 2
          },
          "yaxis": {
           "automargin": true,
           "gridcolor": "white",
           "linecolor": "white",
           "ticks": "",
           "title": {
            "standoff": 15
           },
           "zerolinecolor": "white",
           "zerolinewidth": 2
          }
         }
        },
        "title": {
         "text": "Contour Plot"
        },
        "xaxis": {
         "range": [
          68.6,
          517.4
         ],
         "title": {
          "text": "n_estimators"
         }
        },
        "yaxis": {
         "range": [
          -0.1,
          2.1
         ],
         "title": {
          "text": "optimizer"
         },
         "type": "category"
        }
       }
      }
     },
     "metadata": {},
     "output_type": "display_data"
    }
   ],
   "source": [
    "optuna.visualization.plot_contour(rf_study, params=['n_estimators', 'optimizer'])"
   ]
  },
  {
   "cell_type": "code",
   "execution_count": 22,
   "metadata": {},
   "outputs": [
    {
     "data": {
      "application/vnd.plotly.v1+json": {
       "config": {
        "plotlyServerURL": "https://plot.ly"
       },
       "data": [
        {
         "cliponaxis": false,
         "hovertemplate": [
          "optimizer (CategoricalDistribution): 0.11432380464612381<extra></extra>",
          "n_estimators (IntDistribution): 0.8856761953538762<extra></extra>"
         ],
         "name": "Objective Value",
         "orientation": "h",
         "text": [
          "0.11",
          "0.89"
         ],
         "textposition": "outside",
         "type": "bar",
         "x": [
          0.11432380464612381,
          0.8856761953538762
         ],
         "y": [
          "optimizer",
          "n_estimators"
         ]
        }
       ],
       "layout": {
        "template": {
         "data": {
          "bar": [
           {
            "error_x": {
             "color": "#2a3f5f"
            },
            "error_y": {
             "color": "#2a3f5f"
            },
            "marker": {
             "line": {
              "color": "#E5ECF6",
              "width": 0.5
             },
             "pattern": {
              "fillmode": "overlay",
              "size": 10,
              "solidity": 0.2
             }
            },
            "type": "bar"
           }
          ],
          "barpolar": [
           {
            "marker": {
             "line": {
              "color": "#E5ECF6",
              "width": 0.5
             },
             "pattern": {
              "fillmode": "overlay",
              "size": 10,
              "solidity": 0.2
             }
            },
            "type": "barpolar"
           }
          ],
          "carpet": [
           {
            "aaxis": {
             "endlinecolor": "#2a3f5f",
             "gridcolor": "white",
             "linecolor": "white",
             "minorgridcolor": "white",
             "startlinecolor": "#2a3f5f"
            },
            "baxis": {
             "endlinecolor": "#2a3f5f",
             "gridcolor": "white",
             "linecolor": "white",
             "minorgridcolor": "white",
             "startlinecolor": "#2a3f5f"
            },
            "type": "carpet"
           }
          ],
          "choropleth": [
           {
            "colorbar": {
             "outlinewidth": 0,
             "ticks": ""
            },
            "type": "choropleth"
           }
          ],
          "contour": [
           {
            "colorbar": {
             "outlinewidth": 0,
             "ticks": ""
            },
            "colorscale": [
             [
              0,
              "#0d0887"
             ],
             [
              0.1111111111111111,
              "#46039f"
             ],
             [
              0.2222222222222222,
              "#7201a8"
             ],
             [
              0.3333333333333333,
              "#9c179e"
             ],
             [
              0.4444444444444444,
              "#bd3786"
             ],
             [
              0.5555555555555556,
              "#d8576b"
             ],
             [
              0.6666666666666666,
              "#ed7953"
             ],
             [
              0.7777777777777778,
              "#fb9f3a"
             ],
             [
              0.8888888888888888,
              "#fdca26"
             ],
             [
              1,
              "#f0f921"
             ]
            ],
            "type": "contour"
           }
          ],
          "contourcarpet": [
           {
            "colorbar": {
             "outlinewidth": 0,
             "ticks": ""
            },
            "type": "contourcarpet"
           }
          ],
          "heatmap": [
           {
            "colorbar": {
             "outlinewidth": 0,
             "ticks": ""
            },
            "colorscale": [
             [
              0,
              "#0d0887"
             ],
             [
              0.1111111111111111,
              "#46039f"
             ],
             [
              0.2222222222222222,
              "#7201a8"
             ],
             [
              0.3333333333333333,
              "#9c179e"
             ],
             [
              0.4444444444444444,
              "#bd3786"
             ],
             [
              0.5555555555555556,
              "#d8576b"
             ],
             [
              0.6666666666666666,
              "#ed7953"
             ],
             [
              0.7777777777777778,
              "#fb9f3a"
             ],
             [
              0.8888888888888888,
              "#fdca26"
             ],
             [
              1,
              "#f0f921"
             ]
            ],
            "type": "heatmap"
           }
          ],
          "heatmapgl": [
           {
            "colorbar": {
             "outlinewidth": 0,
             "ticks": ""
            },
            "colorscale": [
             [
              0,
              "#0d0887"
             ],
             [
              0.1111111111111111,
              "#46039f"
             ],
             [
              0.2222222222222222,
              "#7201a8"
             ],
             [
              0.3333333333333333,
              "#9c179e"
             ],
             [
              0.4444444444444444,
              "#bd3786"
             ],
             [
              0.5555555555555556,
              "#d8576b"
             ],
             [
              0.6666666666666666,
              "#ed7953"
             ],
             [
              0.7777777777777778,
              "#fb9f3a"
             ],
             [
              0.8888888888888888,
              "#fdca26"
             ],
             [
              1,
              "#f0f921"
             ]
            ],
            "type": "heatmapgl"
           }
          ],
          "histogram": [
           {
            "marker": {
             "pattern": {
              "fillmode": "overlay",
              "size": 10,
              "solidity": 0.2
             }
            },
            "type": "histogram"
           }
          ],
          "histogram2d": [
           {
            "colorbar": {
             "outlinewidth": 0,
             "ticks": ""
            },
            "colorscale": [
             [
              0,
              "#0d0887"
             ],
             [
              0.1111111111111111,
              "#46039f"
             ],
             [
              0.2222222222222222,
              "#7201a8"
             ],
             [
              0.3333333333333333,
              "#9c179e"
             ],
             [
              0.4444444444444444,
              "#bd3786"
             ],
             [
              0.5555555555555556,
              "#d8576b"
             ],
             [
              0.6666666666666666,
              "#ed7953"
             ],
             [
              0.7777777777777778,
              "#fb9f3a"
             ],
             [
              0.8888888888888888,
              "#fdca26"
             ],
             [
              1,
              "#f0f921"
             ]
            ],
            "type": "histogram2d"
           }
          ],
          "histogram2dcontour": [
           {
            "colorbar": {
             "outlinewidth": 0,
             "ticks": ""
            },
            "colorscale": [
             [
              0,
              "#0d0887"
             ],
             [
              0.1111111111111111,
              "#46039f"
             ],
             [
              0.2222222222222222,
              "#7201a8"
             ],
             [
              0.3333333333333333,
              "#9c179e"
             ],
             [
              0.4444444444444444,
              "#bd3786"
             ],
             [
              0.5555555555555556,
              "#d8576b"
             ],
             [
              0.6666666666666666,
              "#ed7953"
             ],
             [
              0.7777777777777778,
              "#fb9f3a"
             ],
             [
              0.8888888888888888,
              "#fdca26"
             ],
             [
              1,
              "#f0f921"
             ]
            ],
            "type": "histogram2dcontour"
           }
          ],
          "mesh3d": [
           {
            "colorbar": {
             "outlinewidth": 0,
             "ticks": ""
            },
            "type": "mesh3d"
           }
          ],
          "parcoords": [
           {
            "line": {
             "colorbar": {
              "outlinewidth": 0,
              "ticks": ""
             }
            },
            "type": "parcoords"
           }
          ],
          "pie": [
           {
            "automargin": true,
            "type": "pie"
           }
          ],
          "scatter": [
           {
            "fillpattern": {
             "fillmode": "overlay",
             "size": 10,
             "solidity": 0.2
            },
            "type": "scatter"
           }
          ],
          "scatter3d": [
           {
            "line": {
             "colorbar": {
              "outlinewidth": 0,
              "ticks": ""
             }
            },
            "marker": {
             "colorbar": {
              "outlinewidth": 0,
              "ticks": ""
             }
            },
            "type": "scatter3d"
           }
          ],
          "scattercarpet": [
           {
            "marker": {
             "colorbar": {
              "outlinewidth": 0,
              "ticks": ""
             }
            },
            "type": "scattercarpet"
           }
          ],
          "scattergeo": [
           {
            "marker": {
             "colorbar": {
              "outlinewidth": 0,
              "ticks": ""
             }
            },
            "type": "scattergeo"
           }
          ],
          "scattergl": [
           {
            "marker": {
             "colorbar": {
              "outlinewidth": 0,
              "ticks": ""
             }
            },
            "type": "scattergl"
           }
          ],
          "scattermapbox": [
           {
            "marker": {
             "colorbar": {
              "outlinewidth": 0,
              "ticks": ""
             }
            },
            "type": "scattermapbox"
           }
          ],
          "scatterpolar": [
           {
            "marker": {
             "colorbar": {
              "outlinewidth": 0,
              "ticks": ""
             }
            },
            "type": "scatterpolar"
           }
          ],
          "scatterpolargl": [
           {
            "marker": {
             "colorbar": {
              "outlinewidth": 0,
              "ticks": ""
             }
            },
            "type": "scatterpolargl"
           }
          ],
          "scatterternary": [
           {
            "marker": {
             "colorbar": {
              "outlinewidth": 0,
              "ticks": ""
             }
            },
            "type": "scatterternary"
           }
          ],
          "surface": [
           {
            "colorbar": {
             "outlinewidth": 0,
             "ticks": ""
            },
            "colorscale": [
             [
              0,
              "#0d0887"
             ],
             [
              0.1111111111111111,
              "#46039f"
             ],
             [
              0.2222222222222222,
              "#7201a8"
             ],
             [
              0.3333333333333333,
              "#9c179e"
             ],
             [
              0.4444444444444444,
              "#bd3786"
             ],
             [
              0.5555555555555556,
              "#d8576b"
             ],
             [
              0.6666666666666666,
              "#ed7953"
             ],
             [
              0.7777777777777778,
              "#fb9f3a"
             ],
             [
              0.8888888888888888,
              "#fdca26"
             ],
             [
              1,
              "#f0f921"
             ]
            ],
            "type": "surface"
           }
          ],
          "table": [
           {
            "cells": {
             "fill": {
              "color": "#EBF0F8"
             },
             "line": {
              "color": "white"
             }
            },
            "header": {
             "fill": {
              "color": "#C8D4E3"
             },
             "line": {
              "color": "white"
             }
            },
            "type": "table"
           }
          ]
         },
         "layout": {
          "annotationdefaults": {
           "arrowcolor": "#2a3f5f",
           "arrowhead": 0,
           "arrowwidth": 1
          },
          "autotypenumbers": "strict",
          "coloraxis": {
           "colorbar": {
            "outlinewidth": 0,
            "ticks": ""
           }
          },
          "colorscale": {
           "diverging": [
            [
             0,
             "#8e0152"
            ],
            [
             0.1,
             "#c51b7d"
            ],
            [
             0.2,
             "#de77ae"
            ],
            [
             0.3,
             "#f1b6da"
            ],
            [
             0.4,
             "#fde0ef"
            ],
            [
             0.5,
             "#f7f7f7"
            ],
            [
             0.6,
             "#e6f5d0"
            ],
            [
             0.7,
             "#b8e186"
            ],
            [
             0.8,
             "#7fbc41"
            ],
            [
             0.9,
             "#4d9221"
            ],
            [
             1,
             "#276419"
            ]
           ],
           "sequential": [
            [
             0,
             "#0d0887"
            ],
            [
             0.1111111111111111,
             "#46039f"
            ],
            [
             0.2222222222222222,
             "#7201a8"
            ],
            [
             0.3333333333333333,
             "#9c179e"
            ],
            [
             0.4444444444444444,
             "#bd3786"
            ],
            [
             0.5555555555555556,
             "#d8576b"
            ],
            [
             0.6666666666666666,
             "#ed7953"
            ],
            [
             0.7777777777777778,
             "#fb9f3a"
            ],
            [
             0.8888888888888888,
             "#fdca26"
            ],
            [
             1,
             "#f0f921"
            ]
           ],
           "sequentialminus": [
            [
             0,
             "#0d0887"
            ],
            [
             0.1111111111111111,
             "#46039f"
            ],
            [
             0.2222222222222222,
             "#7201a8"
            ],
            [
             0.3333333333333333,
             "#9c179e"
            ],
            [
             0.4444444444444444,
             "#bd3786"
            ],
            [
             0.5555555555555556,
             "#d8576b"
            ],
            [
             0.6666666666666666,
             "#ed7953"
            ],
            [
             0.7777777777777778,
             "#fb9f3a"
            ],
            [
             0.8888888888888888,
             "#fdca26"
            ],
            [
             1,
             "#f0f921"
            ]
           ]
          },
          "colorway": [
           "#636efa",
           "#EF553B",
           "#00cc96",
           "#ab63fa",
           "#FFA15A",
           "#19d3f3",
           "#FF6692",
           "#B6E880",
           "#FF97FF",
           "#FECB52"
          ],
          "font": {
           "color": "#2a3f5f"
          },
          "geo": {
           "bgcolor": "white",
           "lakecolor": "white",
           "landcolor": "#E5ECF6",
           "showlakes": true,
           "showland": true,
           "subunitcolor": "white"
          },
          "hoverlabel": {
           "align": "left"
          },
          "hovermode": "closest",
          "mapbox": {
           "style": "light"
          },
          "paper_bgcolor": "white",
          "plot_bgcolor": "#E5ECF6",
          "polar": {
           "angularaxis": {
            "gridcolor": "white",
            "linecolor": "white",
            "ticks": ""
           },
           "bgcolor": "#E5ECF6",
           "radialaxis": {
            "gridcolor": "white",
            "linecolor": "white",
            "ticks": ""
           }
          },
          "scene": {
           "xaxis": {
            "backgroundcolor": "#E5ECF6",
            "gridcolor": "white",
            "gridwidth": 2,
            "linecolor": "white",
            "showbackground": true,
            "ticks": "",
            "zerolinecolor": "white"
           },
           "yaxis": {
            "backgroundcolor": "#E5ECF6",
            "gridcolor": "white",
            "gridwidth": 2,
            "linecolor": "white",
            "showbackground": true,
            "ticks": "",
            "zerolinecolor": "white"
           },
           "zaxis": {
            "backgroundcolor": "#E5ECF6",
            "gridcolor": "white",
            "gridwidth": 2,
            "linecolor": "white",
            "showbackground": true,
            "ticks": "",
            "zerolinecolor": "white"
           }
          },
          "shapedefaults": {
           "line": {
            "color": "#2a3f5f"
           }
          },
          "ternary": {
           "aaxis": {
            "gridcolor": "white",
            "linecolor": "white",
            "ticks": ""
           },
           "baxis": {
            "gridcolor": "white",
            "linecolor": "white",
            "ticks": ""
           },
           "bgcolor": "#E5ECF6",
           "caxis": {
            "gridcolor": "white",
            "linecolor": "white",
            "ticks": ""
           }
          },
          "title": {
           "x": 0.05
          },
          "xaxis": {
           "automargin": true,
           "gridcolor": "white",
           "linecolor": "white",
           "ticks": "",
           "title": {
            "standoff": 15
           },
           "zerolinecolor": "white",
           "zerolinewidth": 2
          },
          "yaxis": {
           "automargin": true,
           "gridcolor": "white",
           "linecolor": "white",
           "ticks": "",
           "title": {
            "standoff": 15
           },
           "zerolinecolor": "white",
           "zerolinewidth": 2
          }
         }
        },
        "title": {
         "text": "Hyperparameter Importances"
        },
        "xaxis": {
         "title": {
          "text": "Hyperparameter Importance"
         }
        },
        "yaxis": {
         "title": {
          "text": "Hyperparameter"
         }
        }
       }
      }
     },
     "metadata": {},
     "output_type": "display_data"
    }
   ],
   "source": [
    "optuna.visualization.plot_param_importances(rf_study)\n"
   ]
  },
  {
   "cell_type": "markdown",
   "metadata": {},
   "source": [
    "The Random Forest classifier with the best accuracy score has the following parameters:"
   ]
  },
  {
   "cell_type": "code",
   "execution_count": 23,
   "metadata": {},
   "outputs": [
    {
     "data": {
      "text/plain": [
       "{'n_estimators': 432, 'optimizer': 'entropy'}"
      ]
     },
     "execution_count": 23,
     "metadata": {},
     "output_type": "execute_result"
    }
   ],
   "source": [
    "# Trial at index 16 (17th trial) has the highest accuracy of 0.814024\n",
    "rf_study.best_params"
   ]
  },
  {
   "cell_type": "markdown",
   "metadata": {},
   "source": [
    "## Default vs Tuned Random Forest Model"
   ]
  },
  {
   "cell_type": "code",
   "execution_count": 34,
   "metadata": {},
   "outputs": [],
   "source": [
    "def confusion_matrix_plotter (y_test, y_pred):\n",
    "  fig, ax = plt.subplots(figsize=(8,5)) \n",
    "  data = confusion_matrix(y_test, y_pred)\n",
    "  df_cm = pd.DataFrame(data, columns=np.unique(y_test), index = np.unique(y_test))\n",
    "  ax = sns.heatmap(df_cm, cmap='Blues', fmt='g' ,annot=True,annot_kws={\"size\": 14})\n",
    "  ax.set_xlabel(\"Predicted\")\n",
    "  ax.set_ylabel (\"Actual\")\n",
    "  ax.set_xticklabels(ax.get_xticklabels(), rotation=45)\n",
    "  ax.set_yticklabels(ax.get_xticklabels(), rotation=0)"
   ]
  },
  {
   "cell_type": "code",
   "execution_count": 35,
   "metadata": {},
   "outputs": [],
   "source": [
    "def feature_importances (model, title):\n",
    "  features= X_train.columns\n",
    "  importances = np.round(model.feature_importances_,3) \n",
    "  indices = np.argsort(importances)\n",
    "  num_features = len(features)\n",
    "  fig, ax = plt.subplots(figsize=(10,10)) \n",
    "  plt.barh(range(num_features), importances[indices[-num_features:]],  align='center', color =  '#66c2a5')\n",
    "  plt.yticks(range(num_features), [features[i] for i in indices[-num_features:]])\n",
    "  plt.xlabel('Relative Importance')\n",
    "  plt.title('Feature Importance'+ title)\n",
    "plt.show()"
   ]
  },
  {
   "cell_type": "code",
   "execution_count": 24,
   "metadata": {},
   "outputs": [],
   "source": [
    "# Default parameters\n",
    "rf = RandomForestClassifier(random_state=random_state, n_jobs=-1)\n",
    "\n",
    "# Tuned parameters\n",
    "tuned_rf = RandomForestClassifier(n_estimators=432, criterion='entropy', random_state=random_state, n_jobs=-1)"
   ]
  },
  {
   "cell_type": "code",
   "execution_count": 29,
   "metadata": {},
   "outputs": [],
   "source": [
    "encoder = GLMMEncoder()\n",
    "X_train = encoder.fit_transform(X_train, y_train)\n",
    "X_test = encoder.transform(X_test)"
   ]
  },
  {
   "cell_type": "markdown",
   "metadata": {},
   "source": [
    "### Default RF Model"
   ]
  },
  {
   "cell_type": "code",
   "execution_count": 40,
   "metadata": {},
   "outputs": [
    {
     "name": "stdout",
     "output_type": "stream",
     "text": [
      "Default Random Forest Classifier Accuracy: 0.8118686868686869\n"
     ]
    }
   ],
   "source": [
    "# Default RF\n",
    "rf.fit(X_train, y_train)\n",
    "y_pred = rf.predict(X_test)\n",
    "acc = accuracy_score(y_test, y_pred)\n",
    "print(f'Default Random Forest Classifier Accuracy: {acc}')"
   ]
  },
  {
   "cell_type": "code",
   "execution_count": 41,
   "metadata": {},
   "outputs": [
    {
     "data": {
      "text/plain": [
       "0.9662878787878788"
      ]
     },
     "execution_count": 41,
     "metadata": {},
     "output_type": "execute_result"
    }
   ],
   "source": [
    "# Train accuracy\n",
    "rf.score(X_train, y_train)"
   ]
  },
  {
   "cell_type": "code",
   "execution_count": 37,
   "metadata": {},
   "outputs": [
    {
     "name": "stdout",
     "output_type": "stream",
     "text": [
      "              precision    recall  f1-score   support\n",
      "\n",
      "           0       0.81      0.85      0.83      6457\n",
      "           1       0.81      0.77      0.79      5423\n",
      "\n",
      "    accuracy                           0.81     11880\n",
      "   macro avg       0.81      0.81      0.81     11880\n",
      "weighted avg       0.81      0.81      0.81     11880\n",
      "\n"
     ]
    },
    {
     "data": {
      "image/png": "[encoded data removed]",
      "text/plain": [
       "<Figure size 800x500 with 2 Axes>"
      ]
     },
     "metadata": {},
     "output_type": "display_data"
    },
    {
     "data": {
      "image/png": "[encoded data removed]",
      "text/plain": [
       "<Figure size 1000x1000 with 1 Axes>"
      ]
     },
     "metadata": {},
     "output_type": "display_data"
    }
   ],
   "source": [
    "print(classification_report(y_test, y_pred))\n",
    "confusion_matrix_plotter(y_test, y_pred)\n",
    "feature_importances(rf, ' - Default')"
   ]
  },
  {
   "cell_type": "markdown",
   "metadata": {},
   "source": [
    "### Tuned RF Model"
   ]
  },
  {
   "cell_type": "code",
   "execution_count": 42,
   "metadata": {},
   "outputs": [
    {
     "name": "stdout",
     "output_type": "stream",
     "text": [
      "Tuned Random Forest Classifier Accuracy: 0.8134680134680135\n"
     ]
    }
   ],
   "source": [
    "# Tuned RF\n",
    "tuned_rf.fit(X_train, y_train)\n",
    "y_pred = tuned_rf.predict(X_test)\n",
    "acc = accuracy_score(y_test, y_pred)\n",
    "print(f'Tuned Random Forest Classifier Accuracy: {acc}')"
   ]
  },
  {
   "cell_type": "code",
   "execution_count": 43,
   "metadata": {},
   "outputs": [
    {
     "data": {
      "text/plain": [
       "0.9663510101010101"
      ]
     },
     "execution_count": 43,
     "metadata": {},
     "output_type": "execute_result"
    }
   ],
   "source": [
    "# Tune RF train accuracy\n",
    "tuned_rf.score(X_train, y_train)"
   ]
  },
  {
   "cell_type": "code",
   "execution_count": 39,
   "metadata": {},
   "outputs": [
    {
     "name": "stdout",
     "output_type": "stream",
     "text": [
      "              precision    recall  f1-score   support\n",
      "\n",
      "           0       0.82      0.85      0.83      6457\n",
      "           1       0.81      0.77      0.79      5423\n",
      "\n",
      "    accuracy                           0.81     11880\n",
      "   macro avg       0.81      0.81      0.81     11880\n",
      "weighted avg       0.81      0.81      0.81     11880\n",
      "\n"
     ]
    },
    {
     "data": {
      "image/png": "[encoded data removed]",
      "text/plain": [
       "<Figure size 800x500 with 2 Axes>"
      ]
     },
     "metadata": {},
     "output_type": "display_data"
    },
    {
     "data": {
      "image/png": "[encoded data removed]",
      "text/plain": [
       "<Figure size 1000x1000 with 1 Axes>"
      ]
     },
     "metadata": {},
     "output_type": "display_data"
    }
   ],
   "source": [
    "print(classification_report(y_test, y_pred))\n",
    "confusion_matrix_plotter(y_test, y_pred)\n",
    "feature_importances(rf, ' - Tuned RF')"
   ]
  }
 ],
 "metadata": {
  "kernelspec": {
   "display_name": "learn-env",
   "language": "python",
   "name": "python3"
  },
  "language_info": {
   "codemirror_mode": {
    "name": "ipython",
    "version": 3
   },
   "file_extension": ".py",
   "mimetype": "text/x-python",
   "name": "python",
   "nbconvert_exporter": "python",
   "pygments_lexer": "ipython3",
   "version": "3.12.2"
  }
 },
 "nbformat": 4,
 "nbformat_minor": 2
}
