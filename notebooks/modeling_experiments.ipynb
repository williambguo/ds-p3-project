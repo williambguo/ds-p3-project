{
 "cells": [
  {
   "cell_type": "markdown",
   "metadata": {},
   "source": [
    "# Modeling Sandbox"
   ]
  },
  {
   "cell_type": "code",
   "execution_count": 12,
   "metadata": {},
   "outputs": [],
   "source": [
    "import numpy as np\n",
    "import pandas as pd\n",
    "import matplotlib.pyplot as plt\n",
    "%matplotlib inline\n",
    "import seaborn as sns\n",
    "\n",
    "from sklearn.model_selection import train_test_split\n",
    "from sklearn.model_selection import GridSearchCV, RandomizedSearchCV\n",
    "from sklearn.metrics import confusion_matrix, classification_report, accuracy_score\n",
    "from sklearn.model_selection import KFold\n",
    "from sklearn.model_selection import cross_val_score\n",
    "from sklearn.preprocessing import StandardScaler\n",
    "\n",
    "from sklearn.linear_model import LogisticRegression \n",
    "from sklearn.neighbors import KNeighborsClassifier\n",
    "from sklearn.tree import DecisionTreeClassifier\n",
    "from sklearn.ensemble import RandomForestClassifier\n",
    "from sklearn.ensemble import GradientBoostingClassifier\n",
    "from sklearn.naive_bayes import GaussianNB\n",
    "from sklearn.svm import SVC"
   ]
  },
  {
   "cell_type": "markdown",
   "metadata": {},
   "source": [
    "## Using Data where All Nulls were Dropped"
   ]
  },
  {
   "cell_type": "markdown",
   "metadata": {},
   "source": [
    "I wanted to experiment the same classification models using the dataset where I straight up dropped **all** null values in the original training dataset."
   ]
  },
  {
   "cell_type": "code",
   "execution_count": 13,
   "metadata": {},
   "outputs": [],
   "source": [
    "# Load cleaned data\n",
    "train = pd.read_csv('../data/processed/train_all_nulls_dropped.csv')"
   ]
  },
  {
   "cell_type": "code",
   "execution_count": 14,
   "metadata": {},
   "outputs": [],
   "source": [
    "df = train.copy()"
   ]
  },
  {
   "cell_type": "markdown",
   "metadata": {},
   "source": [
    "### Feature Engineering"
   ]
  },
  {
   "cell_type": "markdown",
   "metadata": {},
   "source": [
    "Before modeling I had to perform the same feature engineering steps I did with the other dataset."
   ]
  },
  {
   "cell_type": "code",
   "execution_count": 15,
   "metadata": {},
   "outputs": [],
   "source": [
    "# Encoding the booleans in these two categories to 0 (False)m 1(True), and -1 (NaN) \n",
    "df['public_meeting'] = df['public_meeting'].fillna('Unknown')\n",
    "df['public_meeting'] = df['public_meeting'].replace({'False': 0, 'True': 1, 'Unknown': -1})\n",
    "\n",
    "df['permit'] = df['permit'].fillna('Unknown')\n",
    "df['permit'] = df['permit'].replace({'False': 0, 'True': 1, 'Unknown': -1})"
   ]
  },
  {
   "cell_type": "code",
   "execution_count": 16,
   "metadata": {},
   "outputs": [],
   "source": [
    "# Creating a new feature that represents the age of the pump\n",
    "df['construction_year'] = df['construction_year'].replace(0, 10000) # Replacing 0 with 10000 to capture invalid pump ages\n",
    "df['pump_age'] = pd.DatetimeIndex(df['date_recorded']).year - df['construction_year']\n",
    "\n",
    "invalid_pump_age = df['pump_age'] < 0\n",
    "df.loc[invalid_pump_age, 'pump_age'] = -1 "
   ]
  },
  {
   "cell_type": "code",
   "execution_count": 17,
   "metadata": {},
   "outputs": [],
   "source": [
    "# Dictionary matching months to their corresponding seasons\n",
    "# 0: ShortDry, 1: LongRainy, 2: LongDry, 3: ShortRainy\n",
    "seasons = {\n",
    "    1: 0, 2: 0,\n",
    "    3: 1, 4: 1, 5: 1,\n",
    "    6: 2, 7: 2, 8: 2, 9: 2, 10: 2,\n",
    "    11: 3, 12: 3,\n",
    "}\n",
    "\n",
    "# Creating the 'season' column\n",
    "df['season'] = pd.DataFrame({'Month': pd.DatetimeIndex(df['date_recorded']).month})\n",
    "df['season'] = df['season'].apply(lambda month: seasons[month])"
   ]
  },
  {
   "cell_type": "code",
   "execution_count": 18,
   "metadata": {},
   "outputs": [
    {
     "name": "stdout",
     "output_type": "stream",
     "text": [
      "<class 'pandas.core.frame.DataFrame'>\n",
      "RangeIndex: 32543 entries, 0 to 32542\n",
      "Data columns (total 25 columns):\n",
      " #   Column                 Non-Null Count  Dtype  \n",
      "---  ------                 --------------  -----  \n",
      " 0   date_recorded          32543 non-null  object \n",
      " 1   funder                 32543 non-null  object \n",
      " 2   gps_height             32543 non-null  float64\n",
      " 3   installer              32543 non-null  object \n",
      " 4   longitude              32543 non-null  float64\n",
      " 5   latitude               32543 non-null  float64\n",
      " 6   basin                  32543 non-null  object \n",
      " 7   region                 32543 non-null  object \n",
      " 8   district_code          32543 non-null  int64  \n",
      " 9   lga                    32543 non-null  object \n",
      " 10  population             32543 non-null  float64\n",
      " 11  public_meeting         32543 non-null  bool   \n",
      " 12  permit                 32543 non-null  bool   \n",
      " 13  construction_year      32543 non-null  float64\n",
      " 14  extraction_type_class  32543 non-null  object \n",
      " 15  management             32543 non-null  object \n",
      " 16  management_group       32543 non-null  object \n",
      " 17  payment_type           32543 non-null  object \n",
      " 18  quality_group          32543 non-null  object \n",
      " 19  quantity               32543 non-null  object \n",
      " 20  source                 32543 non-null  object \n",
      " 21  waterpoint_type        32543 non-null  object \n",
      " 22  target                 32543 non-null  object \n",
      " 23  pump_age               32543 non-null  float64\n",
      " 24  season                 32543 non-null  int64  \n",
      "dtypes: bool(2), float64(6), int64(2), object(15)\n",
      "memory usage: 5.8+ MB\n"
     ]
    }
   ],
   "source": [
    "df.info()"
   ]
  },
  {
   "cell_type": "code",
   "execution_count": 19,
   "metadata": {},
   "outputs": [],
   "source": [
    "# Replace 'functional needs repair' with 'non functional'\n",
    "df['target'] = df['target'].replace('functional needs repair', 'non functional')"
   ]
  },
  {
   "cell_type": "code",
   "execution_count": 22,
   "metadata": {},
   "outputs": [],
   "source": [
    "df.to_csv('../data/final/train_all_nulls_dropped_final.csv.gz', index=False, compression='gzip')"
   ]
  },
  {
   "cell_type": "code",
   "execution_count": 12,
   "metadata": {},
   "outputs": [],
   "source": [
    "train_features = df.drop('target', axis=1)\n",
    "train_target = df['target']"
   ]
  },
  {
   "cell_type": "code",
   "execution_count": 13,
   "metadata": {},
   "outputs": [],
   "source": [
    "# Unneeded and redundant columns to drop\n",
    "columns_to_drop = ['id', 'wpt_name', 'num_private', 'subvillage', 'ward', 'recorded_by', 'scheme_name', \n",
    "                    'scheme_management', 'water_quality', 'waterpoint_type_group', 'quantity_group', 'region_code', \n",
    "                    'extraction_type', 'extraction_type_group', 'payment', 'source_class', 'source_type',\n",
    "                    'funder', 'installer', 'longitude', 'latitude', 'date_recorded', 'construction_year',\n",
    "                    'district_code']"
   ]
  },
  {
   "cell_type": "code",
   "execution_count": 16,
   "metadata": {},
   "outputs": [],
   "source": [
    "columns_to_drop = [col for col in columns_to_drop if col in train_features.columns]"
   ]
  },
  {
   "cell_type": "code",
   "execution_count": 18,
   "metadata": {},
   "outputs": [],
   "source": [
    "train_features = train_features.drop(columns=columns_to_drop)"
   ]
  },
  {
   "cell_type": "code",
   "execution_count": 20,
   "metadata": {},
   "outputs": [
    {
     "name": "stdout",
     "output_type": "stream",
     "text": [
      "<class 'pandas.core.frame.DataFrame'>\n",
      "RangeIndex: 32543 entries, 0 to 32542\n",
      "Data columns (total 17 columns):\n",
      " #   Column                 Non-Null Count  Dtype  \n",
      "---  ------                 --------------  -----  \n",
      " 0   gps_height             32543 non-null  float64\n",
      " 1   basin                  32543 non-null  object \n",
      " 2   region                 32543 non-null  object \n",
      " 3   lga                    32543 non-null  object \n",
      " 4   population             32543 non-null  float64\n",
      " 5   public_meeting         32543 non-null  bool   \n",
      " 6   permit                 32543 non-null  bool   \n",
      " 7   extraction_type_class  32543 non-null  object \n",
      " 8   management             32543 non-null  object \n",
      " 9   management_group       32543 non-null  object \n",
      " 10  payment_type           32543 non-null  object \n",
      " 11  quality_group          32543 non-null  object \n",
      " 12  quantity               32543 non-null  object \n",
      " 13  source                 32543 non-null  object \n",
      " 14  waterpoint_type        32543 non-null  object \n",
      " 15  pump_age               32543 non-null  float64\n",
      " 16  season                 32543 non-null  int64  \n",
      "dtypes: bool(2), float64(3), int64(1), object(11)\n",
      "memory usage: 3.8+ MB\n"
     ]
    }
   ],
   "source": [
    "train_features.info()"
   ]
  },
  {
   "cell_type": "code",
   "execution_count": 21,
   "metadata": {},
   "outputs": [
    {
     "data": {
      "text/plain": [
       "target\n",
       "0    18312\n",
       "1    14231\n",
       "Name: count, dtype: int64"
      ]
     },
     "execution_count": 21,
     "metadata": {},
     "output_type": "execute_result"
    }
   ],
   "source": [
    "train_target = train_target.map({'functional': 0, 'non functional': 1})\n",
    "train_target.value_counts()"
   ]
  },
  {
   "cell_type": "markdown",
   "metadata": {},
   "source": [
    "### Encoding and Training Classification Models"
   ]
  },
  {
   "cell_type": "code",
   "execution_count": 22,
   "metadata": {},
   "outputs": [],
   "source": [
    "# Import packages for categorical encoding\n",
    "import time\n",
    "from sklearn.preprocessing import LabelEncoder\n",
    "from sklearn.preprocessing import OneHotEncoder\n",
    "\n",
    "from category_encoders import OrdinalEncoder\n",
    "from category_encoders import CountEncoder\n",
    "from category_encoders import HashingEncoder\n",
    "from category_encoders import BackwardDifferenceEncoder\n",
    "from category_encoders import HelmertEncoder\n",
    "from category_encoders import CatBoostEncoder\n",
    "from category_encoders import GLMMEncoder"
   ]
  },
  {
   "cell_type": "code",
   "execution_count": 23,
   "metadata": {},
   "outputs": [],
   "source": [
    "# Encoding methods\n",
    "random_state = 42\n",
    "\n",
    "encoding_methods = {\n",
    "    'ordinal': OrdinalEncoder(),\n",
    "    'count': CountEncoder(),\n",
    "    'hashing': HashingEncoder(n_components=32, drop_invariant=True),\n",
    "    'backward_difference': BackwardDifferenceEncoder(),\n",
    "    'Helmert': HelmertEncoder(),\n",
    "    'CatBoost': CatBoostEncoder(random_state=random_state),\n",
    "    'GLMM': GLMMEncoder(random_state=random_state)\n",
    "}"
   ]
  },
  {
   "cell_type": "code",
   "execution_count": 24,
   "metadata": {},
   "outputs": [],
   "source": [
    "# Classifiers\n",
    "classifiers = {\n",
    "    'Logistic Regression': LogisticRegression(n_jobs=-1, random_state=random_state),\n",
    "    'Decision Tree': DecisionTreeClassifier(random_state=random_state),\n",
    "    'Naive Bayes': GaussianNB(),\n",
    "    'Random Forest': RandomForestClassifier(random_state=random_state, n_jobs=-1),\n",
    "}"
   ]
  },
  {
   "cell_type": "code",
   "execution_count": 25,
   "metadata": {},
   "outputs": [],
   "source": [
    "# Train test split\n",
    "X_train, X_test, y_train, y_test = train_test_split(train_features, train_target, test_size=0.2, random_state=random_state)"
   ]
  },
  {
   "cell_type": "code",
   "execution_count": 26,
   "metadata": {},
   "outputs": [
    {
     "name": "stdout",
     "output_type": "stream",
     "text": [
      "\n",
      "----- Encoding data using ordinal Encoder -----Done in 0.13s\n",
      "Training Logistic Regression Classifier"
     ]
    },
    {
     "name": "stderr",
     "output_type": "stream",
     "text": [
      "/opt/anaconda3/envs/learn-env/lib/python3.12/site-packages/sklearn/linear_model/_logistic.py:469: ConvergenceWarning: lbfgs failed to converge (status=1):\n",
      "STOP: TOTAL NO. of ITERATIONS REACHED LIMIT.\n",
      "\n",
      "Increase the number of iterations (max_iter) or scale the data as shown in:\n",
      "    https://scikit-learn.org/stable/modules/preprocessing.html\n",
      "Please also refer to the documentation for alternative solver options:\n",
      "    https://scikit-learn.org/stable/modules/linear_model.html#logistic-regression\n",
      "  n_iter_i = _check_optimize_result(\n"
     ]
    },
    {
     "name": "stdout",
     "output_type": "stream",
     "text": [
      "Done in 2.45s\n",
      "Training Decision Tree ClassifierDone in 0.1s\n",
      "Training Naive Bayes ClassifierDone in 0.01s\n",
      "Training Random Forest ClassifierDone in 0.39s\n",
      "\n",
      "----- Encoding data using count Encoder -----Done in 0.13s\n",
      "Training Logistic Regression Classifier"
     ]
    },
    {
     "name": "stderr",
     "output_type": "stream",
     "text": [
      "/opt/anaconda3/envs/learn-env/lib/python3.12/site-packages/sklearn/linear_model/_logistic.py:469: ConvergenceWarning: lbfgs failed to converge (status=1):\n",
      "STOP: TOTAL NO. of ITERATIONS REACHED LIMIT.\n",
      "\n",
      "Increase the number of iterations (max_iter) or scale the data as shown in:\n",
      "    https://scikit-learn.org/stable/modules/preprocessing.html\n",
      "Please also refer to the documentation for alternative solver options:\n",
      "    https://scikit-learn.org/stable/modules/linear_model.html#logistic-regression\n",
      "  n_iter_i = _check_optimize_result(\n"
     ]
    },
    {
     "name": "stdout",
     "output_type": "stream",
     "text": [
      "Done in 0.63s\n",
      "Training Decision Tree ClassifierDone in 0.1s\n",
      "Training Naive Bayes ClassifierDone in 0.01s\n",
      "Training Random Forest ClassifierDone in 0.49s\n",
      "\n",
      "----- Encoding data using hashing Encoder -----Done in 0.27s\n",
      "Training Logistic Regression Classifier"
     ]
    },
    {
     "name": "stderr",
     "output_type": "stream",
     "text": [
      "/opt/anaconda3/envs/learn-env/lib/python3.12/site-packages/sklearn/linear_model/_logistic.py:469: ConvergenceWarning: lbfgs failed to converge (status=1):\n",
      "STOP: TOTAL NO. of ITERATIONS REACHED LIMIT.\n",
      "\n",
      "Increase the number of iterations (max_iter) or scale the data as shown in:\n",
      "    https://scikit-learn.org/stable/modules/preprocessing.html\n",
      "Please also refer to the documentation for alternative solver options:\n",
      "    https://scikit-learn.org/stable/modules/linear_model.html#logistic-regression\n",
      "  n_iter_i = _check_optimize_result(\n"
     ]
    },
    {
     "name": "stdout",
     "output_type": "stream",
     "text": [
      "Done in 0.65s\n",
      "Training Decision Tree ClassifierDone in 0.12s\n",
      "Training Naive Bayes ClassifierDone in 0.01s\n",
      "Training Random Forest ClassifierDone in 0.39s\n",
      "\n",
      "----- Encoding data using backward_difference Encoder -----"
     ]
    },
    {
     "name": "stderr",
     "output_type": "stream",
     "text": [
      "/opt/anaconda3/envs/learn-env/lib/python3.12/site-packages/category_encoders/base_contrast_encoder.py:126: FutureWarning: Intercept column might not be added anymore in future releases (c.f. issue #370)\n",
      "  warnings.warn(\"Intercept column might not be added anymore in future releases (c.f. issue #370)\",\n",
      "/opt/anaconda3/envs/learn-env/lib/python3.12/site-packages/category_encoders/base_contrast_encoder.py:126: FutureWarning: Intercept column might not be added anymore in future releases (c.f. issue #370)\n",
      "  warnings.warn(\"Intercept column might not be added anymore in future releases (c.f. issue #370)\",\n",
      "/opt/anaconda3/envs/learn-env/lib/python3.12/site-packages/category_encoders/base_contrast_encoder.py:126: FutureWarning: Intercept column might not be added anymore in future releases (c.f. issue #370)\n",
      "  warnings.warn(\"Intercept column might not be added anymore in future releases (c.f. issue #370)\",\n"
     ]
    },
    {
     "name": "stdout",
     "output_type": "stream",
     "text": [
      "Done in 0.34s\n",
      "Training Logistic Regression Classifier"
     ]
    },
    {
     "name": "stderr",
     "output_type": "stream",
     "text": [
      "/opt/anaconda3/envs/learn-env/lib/python3.12/site-packages/sklearn/linear_model/_logistic.py:469: ConvergenceWarning: lbfgs failed to converge (status=1):\n",
      "STOP: TOTAL NO. of ITERATIONS REACHED LIMIT.\n",
      "\n",
      "Increase the number of iterations (max_iter) or scale the data as shown in:\n",
      "    https://scikit-learn.org/stable/modules/preprocessing.html\n",
      "Please also refer to the documentation for alternative solver options:\n",
      "    https://scikit-learn.org/stable/modules/linear_model.html#logistic-regression\n",
      "  n_iter_i = _check_optimize_result(\n"
     ]
    },
    {
     "name": "stdout",
     "output_type": "stream",
     "text": [
      "Done in 0.89s\n",
      "Training Decision Tree ClassifierDone in 0.23s\n",
      "Training Naive Bayes ClassifierDone in 0.04s\n",
      "Training Random Forest ClassifierDone in 0.49s\n",
      "\n",
      "----- Encoding data using Helmert Encoder -----"
     ]
    },
    {
     "name": "stderr",
     "output_type": "stream",
     "text": [
      "/opt/anaconda3/envs/learn-env/lib/python3.12/site-packages/category_encoders/base_contrast_encoder.py:126: FutureWarning: Intercept column might not be added anymore in future releases (c.f. issue #370)\n",
      "  warnings.warn(\"Intercept column might not be added anymore in future releases (c.f. issue #370)\",\n",
      "/opt/anaconda3/envs/learn-env/lib/python3.12/site-packages/category_encoders/base_contrast_encoder.py:126: FutureWarning: Intercept column might not be added anymore in future releases (c.f. issue #370)\n",
      "  warnings.warn(\"Intercept column might not be added anymore in future releases (c.f. issue #370)\",\n",
      "/opt/anaconda3/envs/learn-env/lib/python3.12/site-packages/category_encoders/base_contrast_encoder.py:126: FutureWarning: Intercept column might not be added anymore in future releases (c.f. issue #370)\n",
      "  warnings.warn(\"Intercept column might not be added anymore in future releases (c.f. issue #370)\",\n"
     ]
    },
    {
     "name": "stdout",
     "output_type": "stream",
     "text": [
      "Done in 0.32s\n",
      "Training Logistic Regression ClassifierDone in 0.41s\n",
      "Training Decision Tree ClassifierDone in 0.3s\n",
      "Training Naive Bayes ClassifierDone in 0.03s\n",
      "Training Random Forest ClassifierDone in 0.51s\n",
      "\n",
      "----- Encoding data using CatBoost Encoder -----Done in 0.1s\n",
      "Training Logistic Regression Classifier"
     ]
    },
    {
     "name": "stderr",
     "output_type": "stream",
     "text": [
      "/opt/anaconda3/envs/learn-env/lib/python3.12/site-packages/sklearn/linear_model/_logistic.py:469: ConvergenceWarning: lbfgs failed to converge (status=1):\n",
      "STOP: TOTAL NO. of ITERATIONS REACHED LIMIT.\n",
      "\n",
      "Increase the number of iterations (max_iter) or scale the data as shown in:\n",
      "    https://scikit-learn.org/stable/modules/preprocessing.html\n",
      "Please also refer to the documentation for alternative solver options:\n",
      "    https://scikit-learn.org/stable/modules/linear_model.html#logistic-regression\n",
      "  n_iter_i = _check_optimize_result(\n"
     ]
    },
    {
     "name": "stdout",
     "output_type": "stream",
     "text": [
      "Done in 0.66s\n",
      "Training Decision Tree ClassifierDone in 0.51s\n",
      "Training Naive Bayes ClassifierDone in 0.01s\n",
      "Training Random Forest ClassifierDone in 1.24s\n",
      "\n",
      "----- Encoding data using GLMM Encoder -----Done in 8.98s\n",
      "Training Logistic Regression Classifier"
     ]
    },
    {
     "name": "stderr",
     "output_type": "stream",
     "text": [
      "/opt/anaconda3/envs/learn-env/lib/python3.12/site-packages/sklearn/linear_model/_logistic.py:469: ConvergenceWarning: lbfgs failed to converge (status=1):\n",
      "STOP: TOTAL NO. of ITERATIONS REACHED LIMIT.\n",
      "\n",
      "Increase the number of iterations (max_iter) or scale the data as shown in:\n",
      "    https://scikit-learn.org/stable/modules/preprocessing.html\n",
      "Please also refer to the documentation for alternative solver options:\n",
      "    https://scikit-learn.org/stable/modules/linear_model.html#logistic-regression\n",
      "  n_iter_i = _check_optimize_result(\n"
     ]
    },
    {
     "name": "stdout",
     "output_type": "stream",
     "text": [
      "Done in 0.79s\n",
      "Training Decision Tree ClassifierDone in 0.11s\n",
      "Training Naive Bayes ClassifierDone in 0.01s\n",
      "Training Random Forest ClassifierDone in 0.4s\n",
      "\n",
      "Classifier: Logistic Regression\tBest Score: 0.7531110769703487 on Test Data\t Using GLMM Encoder\n",
      "\n",
      "Classifier: Decision Tree\tBest Score: 0.7807650944845599 on Test Data\t Using GLMM Encoder\n",
      "\n",
      "Classifier: Naive Bayes\tBest Score: 0.7320632969734214 on Test Data\t Using CatBoost Encoder\n",
      "\n",
      "Classifier: Random Forest\tBest Score: 0.8204025195882624 on Test Data\t Using GLMM Encoder\n"
     ]
    }
   ],
   "source": [
    "classifier_best_results = {classifier_name: (0, 'encoder') for classifier_name in classifiers.keys()}\n",
    "\n",
    "\n",
    "for encoding_method, encoder in encoding_methods.items():\n",
    "    print(f'\\n----- Encoding data using {encoding_method} Encoder -----', end='')\n",
    "\n",
    "    start_time = time.time()\n",
    "\n",
    "    encoded_X_train = encoder.fit_transform(X_train, y_train)\n",
    "    encoded_X_test = encoder.transform(X_test)\n",
    "\n",
    "    end_time = time.time()\n",
    "    print(f'Done in {round(end_time-start_time, 2)}s')\n",
    "\n",
    "    for classifier_name, clf_algorithm in classifiers.items():\n",
    "        print(f'Training {classifier_name} Classifier', end='')\n",
    "\n",
    "        start_time = time.time()\n",
    "\n",
    "        clf_algorithm.fit(encoded_X_train, y_train)\n",
    "        y_pred = clf_algorithm.predict(encoded_X_test)\n",
    "        acc = accuracy_score(y_test, y_pred)\n",
    "\n",
    "        end_time = time.time()\n",
    "        print(f'Done in {round(end_time-start_time, 2)}s')\n",
    "\n",
    "        previous_acc, _ = classifier_best_results[classifier_name]\n",
    "        if previous_acc < acc:\n",
    "            classifier_best_results[classifier_name] = (acc, encoding_method)\n",
    "\n",
    "\n",
    "for classifier_name, (score, encoding_method) in classifier_best_results.items():\n",
    "    print(f'\\nClassifier: {classifier_name}\\tBest Score: {score} on Test Data\\t Using {encoding_method} Encoder')"
   ]
  },
  {
   "cell_type": "code",
   "execution_count": 27,
   "metadata": {},
   "outputs": [
    {
     "name": "stdout",
     "output_type": "stream",
     "text": [
      "\n",
      "-----Classifier: Logistic Regression\tEncoding: GLMM-----\n",
      "              precision    recall  f1-score   support\n",
      "\n",
      "           0       0.74      0.86      0.80      3649\n",
      "           1       0.78      0.62      0.69      2860\n",
      "\n",
      "    accuracy                           0.75      6509\n",
      "   macro avg       0.76      0.74      0.74      6509\n",
      "weighted avg       0.76      0.75      0.75      6509\n",
      "\n",
      "\n",
      "-----Classifier: Decision Tree\tEncoding: GLMM-----\n",
      "              precision    recall  f1-score   support\n",
      "\n",
      "           0       0.80      0.80      0.80      3649\n",
      "           1       0.75      0.75      0.75      2860\n",
      "\n",
      "    accuracy                           0.78      6509\n",
      "   macro avg       0.78      0.78      0.78      6509\n",
      "weighted avg       0.78      0.78      0.78      6509\n",
      "\n",
      "\n",
      "-----Classifier: Naive Bayes\tEncoding: CatBoost-----\n",
      "              precision    recall  f1-score   support\n",
      "\n",
      "           0       0.71      0.87      0.78      3649\n",
      "           1       0.77      0.56      0.65      2860\n",
      "\n",
      "    accuracy                           0.73      6509\n",
      "   macro avg       0.74      0.71      0.72      6509\n",
      "weighted avg       0.74      0.73      0.72      6509\n",
      "\n",
      "\n",
      "-----Classifier: Random Forest\tEncoding: GLMM-----\n",
      "              precision    recall  f1-score   support\n",
      "\n",
      "           0       0.82      0.87      0.84      3649\n",
      "           1       0.82      0.76      0.79      2860\n",
      "\n",
      "    accuracy                           0.82      6509\n",
      "   macro avg       0.82      0.81      0.82      6509\n",
      "weighted avg       0.82      0.82      0.82      6509\n",
      "\n"
     ]
    }
   ],
   "source": [
    "scores = []\n",
    "pipelines = []\n",
    "\n",
    "for classifier_name, metric in classifier_best_results.items():\n",
    "    score, encoding_method = metric\n",
    "    encoder = encoding_methods[encoding_method]\n",
    "    encoded_X_train = encoder.fit_transform(X_train, y_train)\n",
    "    encoded_X_test = encoder.transform(X_test)\n",
    "\n",
    "    clf = classifiers[classifier_name]\n",
    "    clf.fit(encoded_X_train, y_train)\n",
    "    y_pred = clf.predict(encoded_X_test)\n",
    "\n",
    "    scores.append(score)\n",
    "    pipelines.append(classifier_name + ' - ' + encoding_method)\n",
    "\n",
    "    print(f'\\n-----Classifier: {classifier_name}\\tEncoding: {encoding_method}-----')\n",
    "    print(classification_report(y_test, y_pred))"
   ]
  },
  {
   "cell_type": "code",
   "execution_count": null,
   "metadata": {},
   "outputs": [],
   "source": []
  }
 ],
 "metadata": {
  "kernelspec": {
   "display_name": "learn-env",
   "language": "python",
   "name": "python3"
  },
  "language_info": {
   "codemirror_mode": {
    "name": "ipython",
    "version": 3
   },
   "file_extension": ".py",
   "mimetype": "text/x-python",
   "name": "python",
   "nbconvert_exporter": "python",
   "pygments_lexer": "ipython3",
   "version": "3.12.2"
  }
 },
 "nbformat": 4,
 "nbformat_minor": 2
}
